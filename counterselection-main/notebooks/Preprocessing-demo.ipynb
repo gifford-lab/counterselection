{
 "cells": [
  {
   "cell_type": "code",
   "execution_count": 1,
   "metadata": {},
   "outputs": [],
   "source": [
    "import os\n",
    "import sys\n",
    "\n",
    "import numpy as np\n",
    "import pandas as pd\n",
    "\n",
    "import matplotlib.pyplot as plt\n",
    "import seaborn as sns\n",
    "\n",
    "import random\n",
    "import pickle"
   ]
  },
  {
   "cell_type": "code",
   "execution_count": 2,
   "metadata": {},
   "outputs": [],
   "source": [
    "sys.path.append(\"../src/\")\n",
    "from preprocessing import *"
   ]
  },
  {
   "cell_type": "markdown",
   "metadata": {},
   "source": [
    "# Data preprocessing example (TGF$\\beta$ repA)\n",
    "Below is an example for preprocessing sequencing data from affinity selection experiments conducted on an Illumina HiSeq/MiSeq machine. This should help when processing new data to train counterselection models for different targets.\n",
    "\n",
    "\n",
    "Before running this notebook, follow the README in `counterselection/scripts/` to generate a folder like `counterselection/data/processing_example/`. Particularly `counterselection/data/processing_example/aa/` which contains `.fa` files that have enriched reads from each round in CDR peptide sequence format. Below is a table of how the GRI numbers align with the demo presented below:\n",
    "\n",
    "| GRI     | Name      |\n",
    "|---------|-----------|\n",
    "| GRI5684 | Mock_R1_a |\n",
    "| GRI7049 | TGFb_R2_a |\n",
    "| GRI7055 | TGFb_R3_a |"
   ]
  },
  {
   "cell_type": "markdown",
   "metadata": {},
   "source": [
    "## 1. Count reads from `.fa` files using `make_read_txt()`\n",
    "The following call will generate a `.txt` from `counterselection/processing_example/aa/*_pept.fa` that has each unique read and its counts."
   ]
  },
  {
   "cell_type": "code",
   "execution_count": 3,
   "metadata": {},
   "outputs": [],
   "source": [
    "make_read_txt(\"../processing_example/\")"
   ]
  },
  {
   "cell_type": "markdown",
   "metadata": {},
   "source": [
    "## 2. Create `count_dict` object and pickle the file using `create_count_dict()`\n",
    "The following call will generate a Python dictionary for each GRI for ease of use in downstream tasks (this step is not explicitly necessary). "
   ]
  },
  {
   "cell_type": "code",
   "execution_count": 4,
   "metadata": {},
   "outputs": [],
   "source": [
    "create_count_dict(\"../processing_example/\")"
   ]
  },
  {
   "cell_type": "markdown",
   "metadata": {},
   "source": [
    "## 3. Make a round enrichment dataframe using `make_enrichment_df()`\n",
    "This function takes as input the Round 2 (R2) and Round 3 (R3) count_dict paths."
   ]
  },
  {
   "cell_type": "code",
   "execution_count": 5,
   "metadata": {},
   "outputs": [],
   "source": [
    "df = make_enrichment_df(\n",
    "                   r1_count_dict_path='../processing_example/count_dicts/GRI5684_count_dict.pkl',\n",
    "                   r2_count_dict_path='../processing_example/count_dicts/GRI7049_count_dict.pkl', \n",
    "                   r3_count_dict_path='../processing_example/count_dicts/GRI7055_count_dict.pkl'\n",
    "                    )"
   ]
  },
  {
   "cell_type": "markdown",
   "metadata": {},
   "source": [
    "## 4. Make a training dataset using `make_class_set()`\n",
    "The following call will generate a classification training set for use in training models."
   ]
  },
  {
   "cell_type": "code",
   "execution_count": 6,
   "metadata": {},
   "outputs": [],
   "source": [
    "tgfb_a = make_class_set(df)"
   ]
  },
  {
   "cell_type": "code",
   "execution_count": null,
   "metadata": {},
   "outputs": [],
   "source": []
  }
 ],
 "metadata": {
  "kernelspec": {
   "display_name": "Python 3",
   "language": "python",
   "name": "python3"
  },
  "language_info": {
   "codemirror_mode": {
    "name": "ipython",
    "version": 3
   },
   "file_extension": ".py",
   "mimetype": "text/x-python",
   "name": "python",
   "nbconvert_exporter": "python",
   "pygments_lexer": "ipython3",
   "version": "3.9.0"
  }
 },
 "nbformat": 4,
 "nbformat_minor": 4
}
