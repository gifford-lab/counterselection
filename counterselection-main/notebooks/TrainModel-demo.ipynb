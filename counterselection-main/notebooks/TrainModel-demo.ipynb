{
 "cells": [
  {
   "cell_type": "code",
   "execution_count": 1,
   "metadata": {},
   "outputs": [],
   "source": [
    "import os\n",
    "import sys\n",
    "import numpy as np\n",
    "from matplotlib import pyplot as plt\n",
    "from scipy import stats\n",
    "import math\n",
    "\n",
    "import torch\n",
    "import torch.nn as nn\n",
    "from torch.nn import functional as F\n",
    "import torch.utils.data\n",
    "\n",
    "from torch.nn.parameter import Parameter\n",
    "from torch.nn import init\n",
    "\n",
    "from tqdm import tqdm\n",
    "global_aa = list(\"ACDEFGHIKLMNPQRSTVWY\")"
   ]
  },
  {
   "cell_type": "code",
   "execution_count": 2,
   "metadata": {},
   "outputs": [],
   "source": [
    "sys.path.append(\"../src\")\n",
    "\n",
    "%load_ext autoreload\n",
    "%autoreload 2\n",
    "from utils import *\n",
    "from model import *\n",
    "from train import *"
   ]
  },
  {
   "cell_type": "markdown",
   "metadata": {},
   "source": [
    "## Overview\n",
    "- In this example, an ensemble classifier is trained for TGF$\\beta$. To switch targets, provide the path to other targets of interes. "
   ]
  },
  {
   "cell_type": "markdown",
   "metadata": {},
   "source": [
    "# Process data"
   ]
  },
  {
   "cell_type": "code",
   "execution_count": 3,
   "metadata": {},
   "outputs": [
    {
     "name": "stdout",
     "output_type": "stream",
     "text": [
      "40129 [0, 0, 0, 0, 0, 0, 0, 0, 0, 0, 0, 0, 0, 0, 0, 0, 0, 0, 0, 0, 0]\n",
      "25419 [0, 0, 0, 0, 0, 0, 0, 0, 0, 0, 0, 0, 0, 0, 0, 0, 0, 0, 0, 0, 0]\n"
     ]
    },
    {
     "name": "stderr",
     "output_type": "stream",
     "text": [
      "/data/gl/g2/sachit/env/anaconda3/envs/antibody/lib/python3.9/site-packages/numpy/core/_asarray.py:102: VisibleDeprecationWarning: Creating an ndarray from ragged nested sequences (which is a list-or-tuple of lists-or-tuples-or ndarrays with different lengths or shapes) is deprecated. If you meant to do this, you must specify 'dtype=object' when creating the ndarray.\n",
      "  return array(a, dtype, copy=False, order=order)\n",
      "100%|██████████| 40129/40129 [00:01<00:00, 30831.68it/s]\n",
      "100%|██████████| 25419/25419 [00:00<00:00, 38378.93it/s]\n"
     ]
    }
   ],
   "source": [
    "raw_data = readcsv_class(\"../data/classification/tgfb_a/\")\n",
    "test_data = readcsv_class(\"../data/classification/tgfb_b/\")\n",
    "train_raw = process_class(raw_data)\n",
    "test_raw = process_class(test_data)\n",
    "train_ds = toTensorDataset(train_raw)\n",
    "test_ds = toTensorDataset(test_raw)\n",
    "\n",
    "trainloader = torch.utils.data.DataLoader(train_ds, batch_size=100, shuffle=True, num_workers=2, drop_last=True)\n",
    "testloader = torch.utils.data.DataLoader(test_ds, batch_size=1000, shuffle=False, num_workers=2, drop_last=False)\n",
    "trainloaderfast = torch.utils.data.DataLoader(train_ds, batch_size=1000, shuffle=False, num_workers=2, drop_last=False)"
   ]
  },
  {
   "cell_type": "markdown",
   "metadata": {},
   "source": [
    "# Train ensemble models\n"
   ]
  },
  {
   "cell_type": "code",
   "execution_count": 4,
   "metadata": {},
   "outputs": [
    {
     "name": "stderr",
     "output_type": "stream",
     "text": [
      "/data/gl/g2/sachit/env/anaconda3/envs/antibody/lib/python3.9/site-packages/torch/cuda/__init__.py:52: UserWarning: CUDA initialization: Found no NVIDIA driver on your system. Please check that you have an NVIDIA GPU and installed a driver from http://www.nvidia.com/Download/index.aspx (Triggered internally at  /opt/conda/conda-bld/pytorch_1607370151529/work/c10/cuda/CUDAFunctions.cpp:100.)\n",
      "  return torch._C._cuda_getDeviceCount() > 0\n"
     ]
    }
   ],
   "source": [
    "# training parameters\n",
    "MODELS=[Seq_32_32(),Seq32x1_16(), Seq32x2_16(), \n",
    "        Seq64x1_16(), Seq_emb_32x1_16(), Seq32x1_16_filt3()]\n",
    "EPOCHS=100\n",
    "OUTPATH=\"../experiments/tgfb\"\n",
    "TRAINLOADER=trainloader\n",
    "TRAINLOADERFAST=trainloaderfast\n",
    "TESTLOADER=testloader\n",
    "DEVICE=torch.device('cuda' if torch.cuda.is_available() else 'cpu')"
   ]
  },
  {
   "cell_type": "code",
   "execution_count": 10,
   "metadata": {},
   "outputs": [
    {
     "name": "stderr",
     "output_type": "stream",
     "text": [
      "  0%|          | 0/401 [00:00<?, ?it/s]../src/model.py:34: UserWarning: Implicit dimension choice for softmax has been deprecated. Change the call to include dim=X as an argument.\n",
      "  x = self.softmax(x)\n",
      "100%|██████████| 401/401 [00:02<00:00, 167.97it/s]\n",
      "100%|██████████| 41/41 [00:00<00:00, 53.91it/s]\n",
      "100%|██████████| 41/41 [00:00<00:00, 59.55it/s]\n",
      "  0%|          | 0/26 [00:00<?, ?it/s]"
     ]
    },
    {
     "name": "stdout",
     "output_type": "stream",
     "text": [
      "Epoch 0: 0.5012304237358588, 0.7698123403356616, 0.7801749271137026\n"
     ]
    },
    {
     "name": "stderr",
     "output_type": "stream",
     "text": [
      "../src/model.py:34: UserWarning: Implicit dimension choice for softmax has been deprecated. Change the call to include dim=X as an argument.\n",
      "  x = self.softmax(x)\n",
      "100%|██████████| 26/26 [00:00<00:00, 43.92it/s]\n",
      "100%|██████████| 26/26 [00:00<00:00, 51.31it/s]\n",
      "  0%|          | 0/401 [00:00<?, ?it/s]"
     ]
    },
    {
     "name": "stdout",
     "output_type": "stream",
     "text": [
      "Epoch 0: 0.5012304237358588, 0.8060830257314675, 0.9558762024257633\n"
     ]
    },
    {
     "name": "stderr",
     "output_type": "stream",
     "text": [
      "../src/model.py:34: UserWarning: Implicit dimension choice for softmax has been deprecated. Change the call to include dim=X as an argument.\n",
      "  x = self.softmax(x)\n",
      "100%|██████████| 401/401 [00:02<00:00, 159.25it/s]\n",
      "100%|██████████| 401/401 [00:02<00:00, 156.66it/s]\n",
      "100%|██████████| 401/401 [00:02<00:00, 159.89it/s]\n",
      "100%|██████████| 401/401 [00:02<00:00, 172.13it/s]\n",
      "100%|██████████| 401/401 [00:02<00:00, 185.14it/s]\n",
      "100%|██████████| 401/401 [00:02<00:00, 184.20it/s]\n",
      "100%|██████████| 401/401 [00:02<00:00, 188.62it/s]\n",
      "100%|██████████| 401/401 [00:02<00:00, 174.69it/s]\n",
      "100%|██████████| 401/401 [00:02<00:00, 199.80it/s]\n",
      "100%|██████████| 401/401 [00:01<00:00, 200.68it/s]\n",
      "100%|██████████| 41/41 [00:00<00:00, 63.89it/s]\n",
      "100%|██████████| 41/41 [00:00<00:00, 65.70it/s]\n",
      "  0%|          | 0/26 [00:00<?, ?it/s]"
     ]
    },
    {
     "name": "stdout",
     "output_type": "stream",
     "text": [
      "Epoch 10: 0.48045652473062056, 0.7938434439326235, 0.7898774699194172\n"
     ]
    },
    {
     "name": "stderr",
     "output_type": "stream",
     "text": [
      "../src/model.py:34: UserWarning: Implicit dimension choice for softmax has been deprecated. Change the call to include dim=X as an argument.\n",
      "  x = self.softmax(x)\n",
      "100%|██████████| 26/26 [00:00<00:00, 46.86it/s]\n",
      "100%|██████████| 26/26 [00:00<00:00, 52.13it/s]\n",
      "  0%|          | 0/401 [00:00<?, ?it/s]"
     ]
    },
    {
     "name": "stdout",
     "output_type": "stream",
     "text": [
      "Epoch 10: 0.48045652473062056, 0.8221023493657232, 0.9525205158264948\n"
     ]
    },
    {
     "name": "stderr",
     "output_type": "stream",
     "text": [
      "../src/model.py:34: UserWarning: Implicit dimension choice for softmax has been deprecated. Change the call to include dim=X as an argument.\n",
      "  x = self.softmax(x)\n",
      "100%|██████████| 401/401 [00:02<00:00, 149.08it/s]\n",
      "100%|██████████| 401/401 [00:02<00:00, 155.33it/s]\n",
      "100%|██████████| 401/401 [00:02<00:00, 166.92it/s]\n",
      "100%|██████████| 401/401 [00:02<00:00, 167.52it/s]\n",
      "100%|██████████| 401/401 [00:02<00:00, 172.86it/s]\n",
      "100%|██████████| 401/401 [00:02<00:00, 164.24it/s]\n",
      "100%|██████████| 401/401 [00:02<00:00, 167.01it/s]\n",
      "100%|██████████| 401/401 [00:02<00:00, 162.75it/s]\n",
      "100%|██████████| 401/401 [00:02<00:00, 166.75it/s]\n",
      "100%|██████████| 401/401 [00:02<00:00, 167.02it/s]\n",
      "100%|██████████| 41/41 [00:00<00:00, 50.07it/s]\n",
      "100%|██████████| 41/41 [00:00<00:00, 53.19it/s]\n",
      "  0%|          | 0/26 [00:00<?, ?it/s]"
     ]
    },
    {
     "name": "stdout",
     "output_type": "stream",
     "text": [
      "Epoch 20: 0.47530203626637446, 0.8031094625600641, 0.7968408395277656\n"
     ]
    },
    {
     "name": "stderr",
     "output_type": "stream",
     "text": [
      "../src/model.py:34: UserWarning: Implicit dimension choice for softmax has been deprecated. Change the call to include dim=X as an argument.\n",
      "  x = self.softmax(x)\n",
      "100%|██████████| 26/26 [00:00<00:00, 46.00it/s]\n",
      "100%|██████████| 26/26 [00:00<00:00, 51.72it/s]\n",
      "  0%|          | 0/401 [00:00<?, ?it/s]"
     ]
    },
    {
     "name": "stdout",
     "output_type": "stream",
     "text": [
      "Epoch 20: 0.47530203626637446, 0.8249547447973591, 0.9503319713993871\n"
     ]
    },
    {
     "name": "stderr",
     "output_type": "stream",
     "text": [
      "../src/model.py:34: UserWarning: Implicit dimension choice for softmax has been deprecated. Change the call to include dim=X as an argument.\n",
      "  x = self.softmax(x)\n",
      "100%|██████████| 401/401 [00:02<00:00, 158.19it/s]\n",
      "100%|██████████| 401/401 [00:02<00:00, 171.97it/s]\n",
      "100%|██████████| 401/401 [00:02<00:00, 153.80it/s]\n",
      "100%|██████████| 401/401 [00:02<00:00, 167.97it/s]\n",
      "100%|██████████| 401/401 [00:02<00:00, 158.30it/s]\n",
      "100%|██████████| 401/401 [00:02<00:00, 170.37it/s]\n",
      "100%|██████████| 401/401 [00:02<00:00, 171.29it/s]\n",
      "100%|██████████| 401/401 [00:02<00:00, 168.09it/s]\n",
      "100%|██████████| 401/401 [00:02<00:00, 170.73it/s]\n",
      "100%|██████████| 401/401 [00:02<00:00, 169.93it/s]\n",
      "100%|██████████| 41/41 [00:00<00:00, 57.06it/s]\n",
      "100%|██████████| 41/41 [00:00<00:00, 57.54it/s]\n",
      "  0%|          | 0/26 [00:00<?, ?it/s]"
     ]
    },
    {
     "name": "stdout",
     "output_type": "stream",
     "text": [
      "Epoch 30: 0.4706910204263102, 0.8077090220475132, 0.8110855281630819\n"
     ]
    },
    {
     "name": "stderr",
     "output_type": "stream",
     "text": [
      "../src/model.py:34: UserWarning: Implicit dimension choice for softmax has been deprecated. Change the call to include dim=X as an argument.\n",
      "  x = self.softmax(x)\n",
      "100%|██████████| 26/26 [00:00<00:00, 44.36it/s]\n",
      "100%|██████████| 26/26 [00:00<00:00, 50.17it/s]\n",
      "  0%|          | 0/401 [00:00<?, ?it/s]"
     ]
    },
    {
     "name": "stdout",
     "output_type": "stream",
     "text": [
      "Epoch 30: 0.4706910204263102, 0.8246371686176632, 0.953028830579851\n"
     ]
    },
    {
     "name": "stderr",
     "output_type": "stream",
     "text": [
      "../src/model.py:34: UserWarning: Implicit dimension choice for softmax has been deprecated. Change the call to include dim=X as an argument.\n",
      "  x = self.softmax(x)\n",
      "100%|██████████| 401/401 [00:02<00:00, 163.64it/s]\n",
      "100%|██████████| 401/401 [00:02<00:00, 154.62it/s]\n",
      "100%|██████████| 401/401 [00:02<00:00, 163.55it/s]\n",
      "100%|██████████| 401/401 [00:02<00:00, 167.88it/s]\n",
      "100%|██████████| 401/401 [00:02<00:00, 147.01it/s]\n",
      "100%|██████████| 401/401 [00:02<00:00, 166.63it/s]\n",
      "100%|██████████| 401/401 [00:02<00:00, 172.15it/s]\n",
      "100%|██████████| 401/401 [00:02<00:00, 164.37it/s]\n",
      "100%|██████████| 401/401 [00:02<00:00, 168.51it/s]\n",
      "100%|██████████| 401/401 [00:02<00:00, 146.55it/s]\n",
      "100%|██████████| 41/41 [00:00<00:00, 50.82it/s]\n",
      "100%|██████████| 41/41 [00:00<00:00, 59.46it/s]\n",
      "  0%|          | 0/26 [00:00<?, ?it/s]"
     ]
    },
    {
     "name": "stdout",
     "output_type": "stream",
     "text": [
      "Epoch 40: 0.4643916515935389, 0.8129531083295982, 0.8151044576025025\n"
     ]
    },
    {
     "name": "stderr",
     "output_type": "stream",
     "text": [
      "../src/model.py:34: UserWarning: Implicit dimension choice for softmax has been deprecated. Change the call to include dim=X as an argument.\n",
      "  x = self.softmax(x)\n",
      "100%|██████████| 26/26 [00:00<00:00, 47.19it/s]\n",
      "100%|██████████| 26/26 [00:00<00:00, 52.68it/s]\n",
      "  0%|          | 0/401 [00:00<?, ?it/s]"
     ]
    },
    {
     "name": "stdout",
     "output_type": "stream",
     "text": [
      "Epoch 40: 0.4643916515935389, 0.8288027504973821, 0.9535107406219943\n"
     ]
    },
    {
     "name": "stderr",
     "output_type": "stream",
     "text": [
      "../src/model.py:34: UserWarning: Implicit dimension choice for softmax has been deprecated. Change the call to include dim=X as an argument.\n",
      "  x = self.softmax(x)\n",
      "100%|██████████| 401/401 [00:02<00:00, 170.02it/s]\n",
      "100%|██████████| 401/401 [00:02<00:00, 142.52it/s]\n",
      "100%|██████████| 401/401 [00:02<00:00, 160.52it/s]\n",
      "100%|██████████| 401/401 [00:02<00:00, 155.68it/s]\n",
      "100%|██████████| 401/401 [00:02<00:00, 149.81it/s]\n",
      "100%|██████████| 401/401 [00:02<00:00, 168.33it/s]\n",
      "100%|██████████| 401/401 [00:02<00:00, 155.40it/s]\n",
      "100%|██████████| 401/401 [00:02<00:00, 156.77it/s]\n",
      "100%|██████████| 401/401 [00:02<00:00, 164.16it/s]\n",
      "100%|██████████| 401/401 [00:02<00:00, 155.97it/s]\n",
      "100%|██████████| 41/41 [00:00<00:00, 44.76it/s]\n",
      "100%|██████████| 41/41 [00:00<00:00, 55.24it/s]\n",
      "  0%|          | 0/26 [00:00<?, ?it/s]"
     ]
    },
    {
     "name": "stdout",
     "output_type": "stream",
     "text": [
      "Epoch 50: 0.46278301498241853, 0.8138826935754597, 0.8152440383329619\n"
     ]
    },
    {
     "name": "stderr",
     "output_type": "stream",
     "text": [
      "../src/model.py:34: UserWarning: Implicit dimension choice for softmax has been deprecated. Change the call to include dim=X as an argument.\n",
      "  x = self.softmax(x)\n",
      "100%|██████████| 26/26 [00:00<00:00, 44.20it/s]\n",
      "100%|██████████| 26/26 [00:00<00:00, 49.80it/s]\n",
      "  0%|          | 0/401 [00:00<?, ?it/s]"
     ]
    },
    {
     "name": "stdout",
     "output_type": "stream",
     "text": [
      "Epoch 50: 0.46278301498241853, 0.8278751057798203, 0.9524723341649076\n"
     ]
    },
    {
     "name": "stderr",
     "output_type": "stream",
     "text": [
      "../src/model.py:34: UserWarning: Implicit dimension choice for softmax has been deprecated. Change the call to include dim=X as an argument.\n",
      "  x = self.softmax(x)\n",
      "100%|██████████| 401/401 [00:02<00:00, 167.58it/s]\n",
      "100%|██████████| 401/401 [00:02<00:00, 170.74it/s]\n",
      "100%|██████████| 401/401 [00:02<00:00, 170.20it/s]\n",
      "100%|██████████| 401/401 [00:02<00:00, 166.18it/s]\n",
      "100%|██████████| 401/401 [00:02<00:00, 164.13it/s]\n",
      "100%|██████████| 401/401 [00:02<00:00, 152.17it/s]\n",
      "100%|██████████| 401/401 [00:02<00:00, 156.01it/s]\n",
      "100%|██████████| 401/401 [00:02<00:00, 158.35it/s]\n",
      "100%|██████████| 401/401 [00:02<00:00, 171.09it/s]\n",
      "100%|██████████| 401/401 [00:02<00:00, 184.93it/s]\n",
      "100%|██████████| 41/41 [00:00<00:00, 64.33it/s]\n",
      "100%|██████████| 41/41 [00:00<00:00, 64.60it/s]\n",
      "  0%|          | 0/26 [00:00<?, ?it/s]"
     ]
    },
    {
     "name": "stdout",
     "output_type": "stream",
     "text": [
      "Epoch 60: 0.46187327553209223, 0.8145771530449586, 0.8178203405017921\n"
     ]
    },
    {
     "name": "stderr",
     "output_type": "stream",
     "text": [
      "../src/model.py:34: UserWarning: Implicit dimension choice for softmax has been deprecated. Change the call to include dim=X as an argument.\n",
      "  x = self.softmax(x)\n",
      "100%|██████████| 26/26 [00:00<00:00, 46.18it/s]\n",
      "100%|██████████| 26/26 [00:00<00:00, 51.62it/s]\n",
      "  0%|          | 0/401 [00:00<?, ?it/s]"
     ]
    },
    {
     "name": "stdout",
     "output_type": "stream",
     "text": [
      "Epoch 60: 0.46187327553209223, 0.8286465411768925, 0.9534928475206876\n"
     ]
    },
    {
     "name": "stderr",
     "output_type": "stream",
     "text": [
      "../src/model.py:34: UserWarning: Implicit dimension choice for softmax has been deprecated. Change the call to include dim=X as an argument.\n",
      "  x = self.softmax(x)\n",
      "100%|██████████| 401/401 [00:02<00:00, 178.50it/s]\n",
      "100%|██████████| 401/401 [00:02<00:00, 190.24it/s]\n",
      "100%|██████████| 401/401 [00:02<00:00, 179.63it/s]\n",
      "100%|██████████| 401/401 [00:02<00:00, 191.53it/s]\n",
      "100%|██████████| 401/401 [00:02<00:00, 198.38it/s]\n",
      "100%|██████████| 401/401 [00:02<00:00, 186.57it/s]\n",
      "100%|██████████| 401/401 [00:02<00:00, 182.67it/s]\n",
      "100%|██████████| 401/401 [00:02<00:00, 177.10it/s]\n",
      "100%|██████████| 401/401 [00:02<00:00, 175.71it/s]\n",
      "100%|██████████| 401/401 [00:02<00:00, 179.61it/s]\n",
      "100%|██████████| 41/41 [00:00<00:00, 60.01it/s]\n",
      "100%|██████████| 41/41 [00:00<00:00, 67.60it/s]\n",
      "  0%|          | 0/26 [00:00<?, ?it/s]"
     ]
    },
    {
     "name": "stdout",
     "output_type": "stream",
     "text": [
      "Epoch 70: 0.4590665178554611, 0.8161854111592304, 0.8143897594350034\n"
     ]
    },
    {
     "name": "stderr",
     "output_type": "stream",
     "text": [
      "../src/model.py:34: UserWarning: Implicit dimension choice for softmax has been deprecated. Change the call to include dim=X as an argument.\n",
      "  x = self.softmax(x)\n",
      "100%|██████████| 26/26 [00:00<00:00, 45.73it/s]\n",
      "100%|██████████| 26/26 [00:00<00:00, 51.12it/s]\n",
      "  0%|          | 0/401 [00:00<?, ?it/s]"
     ]
    },
    {
     "name": "stdout",
     "output_type": "stream",
     "text": [
      "Epoch 70: 0.4590665178554611, 0.8301922986844212, 0.9521786008752458\n"
     ]
    },
    {
     "name": "stderr",
     "output_type": "stream",
     "text": [
      "../src/model.py:34: UserWarning: Implicit dimension choice for softmax has been deprecated. Change the call to include dim=X as an argument.\n",
      "  x = self.softmax(x)\n",
      "100%|██████████| 401/401 [00:02<00:00, 151.85it/s]\n",
      "100%|██████████| 401/401 [00:02<00:00, 154.76it/s]\n",
      "100%|██████████| 401/401 [00:02<00:00, 172.31it/s]\n",
      "100%|██████████| 401/401 [00:02<00:00, 150.12it/s]\n",
      "100%|██████████| 401/401 [00:02<00:00, 168.66it/s]\n",
      "100%|██████████| 401/401 [00:02<00:00, 170.66it/s]\n",
      "100%|██████████| 401/401 [00:02<00:00, 168.66it/s]\n",
      "100%|██████████| 401/401 [00:02<00:00, 149.52it/s]\n",
      "100%|██████████| 401/401 [00:02<00:00, 153.75it/s]\n",
      "100%|██████████| 401/401 [00:02<00:00, 149.91it/s]\n",
      "100%|██████████| 41/41 [00:00<00:00, 54.58it/s]\n",
      "100%|██████████| 41/41 [00:00<00:00, 62.41it/s]\n",
      "  0%|          | 0/26 [00:00<?, ?it/s]"
     ]
    },
    {
     "name": "stdout",
     "output_type": "stream",
     "text": [
      "Epoch 80: 0.4570097515261976, 0.8176113272930494, 0.8232146879927912\n"
     ]
    },
    {
     "name": "stderr",
     "output_type": "stream",
     "text": [
      "../src/model.py:34: UserWarning: Implicit dimension choice for softmax has been deprecated. Change the call to include dim=X as an argument.\n",
      "  x = self.softmax(x)\n",
      "100%|██████████| 26/26 [00:00<00:00, 46.34it/s]\n",
      "100%|██████████| 26/26 [00:00<00:00, 43.41it/s]\n",
      "  0%|          | 0/401 [00:00<?, ?it/s]"
     ]
    },
    {
     "name": "stdout",
     "output_type": "stream",
     "text": [
      "Epoch 80: 0.4570097515261976, 0.8286181474808041, 0.9534376603386352\n"
     ]
    },
    {
     "name": "stderr",
     "output_type": "stream",
     "text": [
      "../src/model.py:34: UserWarning: Implicit dimension choice for softmax has been deprecated. Change the call to include dim=X as an argument.\n",
      "  x = self.softmax(x)\n",
      "100%|██████████| 401/401 [00:02<00:00, 153.28it/s]\n",
      "100%|██████████| 401/401 [00:02<00:00, 147.48it/s]\n",
      "100%|██████████| 401/401 [00:02<00:00, 158.79it/s]\n",
      "100%|██████████| 401/401 [00:02<00:00, 163.85it/s]\n",
      "100%|██████████| 401/401 [00:02<00:00, 171.49it/s]\n",
      "100%|██████████| 401/401 [00:02<00:00, 171.77it/s]\n",
      "100%|██████████| 401/401 [00:02<00:00, 185.31it/s]\n",
      "100%|██████████| 401/401 [00:02<00:00, 175.33it/s]\n",
      "100%|██████████| 401/401 [00:02<00:00, 175.28it/s]\n",
      "100%|██████████| 401/401 [00:02<00:00, 195.28it/s]\n",
      "100%|██████████| 41/41 [00:00<00:00, 63.98it/s]\n",
      "100%|██████████| 41/41 [00:00<00:00, 67.43it/s]\n",
      "  0%|          | 0/26 [00:00<?, ?it/s]"
     ]
    },
    {
     "name": "stdout",
     "output_type": "stream",
     "text": [
      "Epoch 90: 0.4542430360566945, 0.8200179429719392, 0.831939990838296\n"
     ]
    },
    {
     "name": "stderr",
     "output_type": "stream",
     "text": [
      "../src/model.py:34: UserWarning: Implicit dimension choice for softmax has been deprecated. Change the call to include dim=X as an argument.\n",
      "  x = self.softmax(x)\n",
      "100%|██████████| 26/26 [00:00<00:00, 45.08it/s]\n",
      "100%|██████████| 26/26 [00:00<00:00, 51.81it/s]\n",
      "  0%|          | 0/401 [00:00<?, ?it/s]"
     ]
    },
    {
     "name": "stdout",
     "output_type": "stream",
     "text": [
      "Epoch 90: 0.4542430360566945, 0.8278156076422741, 0.9546013063441764\n"
     ]
    },
    {
     "name": "stderr",
     "output_type": "stream",
     "text": [
      "../src/model.py:34: UserWarning: Implicit dimension choice for softmax has been deprecated. Change the call to include dim=X as an argument.\n",
      "  x = self.softmax(x)\n",
      "100%|██████████| 401/401 [00:02<00:00, 156.28it/s]\n",
      "100%|██████████| 401/401 [00:02<00:00, 159.88it/s]\n",
      "100%|██████████| 401/401 [00:02<00:00, 165.62it/s]\n",
      "100%|██████████| 401/401 [00:02<00:00, 148.42it/s]\n",
      "100%|██████████| 401/401 [00:02<00:00, 152.49it/s]\n",
      "100%|██████████| 401/401 [00:02<00:00, 172.44it/s]\n",
      "100%|██████████| 401/401 [00:02<00:00, 186.79it/s]\n",
      "100%|██████████| 401/401 [00:02<00:00, 198.03it/s]\n",
      "100%|██████████| 401/401 [00:02<00:00, 197.19it/s]\n",
      "  0%|          | 0/401 [00:00<?, ?it/s]../src/model.py:56: UserWarning: Implicit dimension choice for softmax has been deprecated. Change the call to include dim=X as an argument.\n",
      "  x = F.softmax(self.fc2(x))\n",
      "100%|██████████| 401/401 [00:03<00:00, 116.53it/s]\n",
      "100%|██████████| 41/41 [00:00<00:00, 46.73it/s]\n",
      "100%|██████████| 41/41 [00:00<00:00, 51.33it/s]\n",
      "  0%|          | 0/26 [00:00<?, ?it/s]"
     ]
    },
    {
     "name": "stdout",
     "output_type": "stream",
     "text": [
      "Epoch 0: 0.5706497129062167, 0.7615301830654291, 0.7294093912341756\n"
     ]
    },
    {
     "name": "stderr",
     "output_type": "stream",
     "text": [
      "../src/model.py:56: UserWarning: Implicit dimension choice for softmax has been deprecated. Change the call to include dim=X as an argument.\n",
      "  x = F.softmax(self.fc2(x))\n",
      "100%|██████████| 26/26 [00:00<00:00, 35.15it/s]\n",
      "100%|██████████| 26/26 [00:00<00:00, 41.10it/s]\n",
      "  0%|          | 0/401 [00:00<?, ?it/s]"
     ]
    },
    {
     "name": "stdout",
     "output_type": "stream",
     "text": [
      "Epoch 0: 0.5706497129062167, 0.8112214384010976, 0.9405990754227092\n"
     ]
    },
    {
     "name": "stderr",
     "output_type": "stream",
     "text": [
      "../src/model.py:56: UserWarning: Implicit dimension choice for softmax has been deprecated. Change the call to include dim=X as an argument.\n",
      "  x = F.softmax(self.fc2(x))\n",
      "100%|██████████| 401/401 [00:02<00:00, 134.98it/s]\n",
      "100%|██████████| 401/401 [00:02<00:00, 147.17it/s]\n",
      "100%|██████████| 401/401 [00:02<00:00, 155.83it/s]\n",
      "100%|██████████| 401/401 [00:02<00:00, 157.44it/s]\n",
      "100%|██████████| 401/401 [00:02<00:00, 162.61it/s]\n",
      "100%|██████████| 401/401 [00:02<00:00, 158.25it/s]\n",
      "100%|██████████| 401/401 [00:02<00:00, 149.79it/s]\n",
      "100%|██████████| 401/401 [00:02<00:00, 157.65it/s]\n",
      "100%|██████████| 401/401 [00:02<00:00, 140.38it/s]\n",
      "100%|██████████| 401/401 [00:02<00:00, 153.60it/s]\n",
      "100%|██████████| 41/41 [00:00<00:00, 48.74it/s]\n",
      "100%|██████████| 41/41 [00:00<00:00, 54.07it/s]\n",
      "  0%|          | 0/26 [00:00<?, ?it/s]"
     ]
    },
    {
     "name": "stdout",
     "output_type": "stream",
     "text": [
      "Epoch 10: 0.49167148861801835, 0.7793286449673521, 0.7809712027103332\n"
     ]
    },
    {
     "name": "stderr",
     "output_type": "stream",
     "text": [
      "../src/model.py:56: UserWarning: Implicit dimension choice for softmax has been deprecated. Change the call to include dim=X as an argument.\n",
      "  x = F.softmax(self.fc2(x))\n",
      "100%|██████████| 26/26 [00:00<00:00, 40.33it/s]\n",
      "100%|██████████| 26/26 [00:00<00:00, 50.24it/s]\n",
      "  0%|          | 0/401 [00:00<?, ?it/s]"
     ]
    },
    {
     "name": "stdout",
     "output_type": "stream",
     "text": [
      "Epoch 10: 0.49167148861801835, 0.8060557758274749, 0.9479710727199678\n"
     ]
    },
    {
     "name": "stderr",
     "output_type": "stream",
     "text": [
      "../src/model.py:56: UserWarning: Implicit dimension choice for softmax has been deprecated. Change the call to include dim=X as an argument.\n",
      "  x = F.softmax(self.fc2(x))\n",
      "100%|██████████| 401/401 [00:02<00:00, 139.18it/s]\n",
      "100%|██████████| 401/401 [00:02<00:00, 141.85it/s]\n",
      "100%|██████████| 401/401 [00:02<00:00, 139.07it/s]\n",
      "100%|██████████| 401/401 [00:02<00:00, 155.05it/s]\n",
      "100%|██████████| 401/401 [00:02<00:00, 158.31it/s]\n",
      "100%|██████████| 401/401 [00:02<00:00, 160.57it/s]\n",
      "100%|██████████| 401/401 [00:02<00:00, 163.33it/s]\n",
      "100%|██████████| 401/401 [00:02<00:00, 154.77it/s]\n",
      "100%|██████████| 401/401 [00:02<00:00, 162.27it/s]\n",
      "100%|██████████| 401/401 [00:02<00:00, 162.65it/s]\n",
      "100%|██████████| 41/41 [00:00<00:00, 50.56it/s]\n",
      "100%|██████████| 41/41 [00:00<00:00, 60.41it/s]\n",
      "  0%|          | 0/26 [00:00<?, ?it/s]"
     ]
    },
    {
     "name": "stdout",
     "output_type": "stream",
     "text": [
      "Epoch 20: 0.47457684052555343, 0.7888648038826753, 0.7753230736232506\n"
     ]
    },
    {
     "name": "stderr",
     "output_type": "stream",
     "text": [
      "../src/model.py:56: UserWarning: Implicit dimension choice for softmax has been deprecated. Change the call to include dim=X as an argument.\n",
      "  x = F.softmax(self.fc2(x))\n",
      "100%|██████████| 26/26 [00:00<00:00, 34.58it/s]\n",
      "100%|██████████| 26/26 [00:00<00:00, 37.91it/s]\n",
      "  0%|          | 0/401 [00:00<?, ?it/s]"
     ]
    },
    {
     "name": "stdout",
     "output_type": "stream",
     "text": [
      "Epoch 20: 0.47457684052555343, 0.8103385230769902, 0.9410491469314999\n"
     ]
    },
    {
     "name": "stderr",
     "output_type": "stream",
     "text": [
      "../src/model.py:56: UserWarning: Implicit dimension choice for softmax has been deprecated. Change the call to include dim=X as an argument.\n",
      "  x = F.softmax(self.fc2(x))\n",
      "100%|██████████| 401/401 [00:03<00:00, 131.52it/s]\n",
      "100%|██████████| 401/401 [00:02<00:00, 157.71it/s]\n",
      "100%|██████████| 401/401 [00:02<00:00, 151.25it/s]\n",
      "100%|██████████| 401/401 [00:02<00:00, 155.02it/s]\n",
      "100%|██████████| 401/401 [00:02<00:00, 157.72it/s]\n",
      "100%|██████████| 401/401 [00:02<00:00, 157.34it/s]\n",
      "100%|██████████| 401/401 [00:02<00:00, 155.28it/s]\n",
      "100%|██████████| 401/401 [00:02<00:00, 160.07it/s]\n",
      "100%|██████████| 401/401 [00:02<00:00, 162.24it/s]\n",
      "100%|██████████| 401/401 [00:02<00:00, 159.81it/s]\n",
      "100%|██████████| 41/41 [00:00<00:00, 48.83it/s]\n",
      "100%|██████████| 41/41 [00:00<00:00, 67.16it/s]\n",
      "  0%|          | 0/26 [00:00<?, ?it/s]"
     ]
    },
    {
     "name": "stdout",
     "output_type": "stream",
     "text": [
      "Epoch 30: 0.46030968732370103, 0.7921689100435, 0.7728228859907447\n"
     ]
    },
    {
     "name": "stderr",
     "output_type": "stream",
     "text": [
      "../src/model.py:56: UserWarning: Implicit dimension choice for softmax has been deprecated. Change the call to include dim=X as an argument.\n",
      "  x = F.softmax(self.fc2(x))\n",
      "100%|██████████| 26/26 [00:00<00:00, 43.37it/s]\n",
      "100%|██████████| 26/26 [00:00<00:00, 49.11it/s]\n",
      "  0%|          | 0/401 [00:00<?, ?it/s]"
     ]
    },
    {
     "name": "stdout",
     "output_type": "stream",
     "text": [
      "Epoch 30: 0.46030968732370103, 0.8125731576546882, 0.9391815792766862\n"
     ]
    },
    {
     "name": "stderr",
     "output_type": "stream",
     "text": [
      "../src/model.py:56: UserWarning: Implicit dimension choice for softmax has been deprecated. Change the call to include dim=X as an argument.\n",
      "  x = F.softmax(self.fc2(x))\n",
      "100%|██████████| 401/401 [00:02<00:00, 136.70it/s]\n",
      "100%|██████████| 401/401 [00:02<00:00, 143.75it/s]\n",
      "100%|██████████| 401/401 [00:02<00:00, 159.11it/s]\n",
      "100%|██████████| 401/401 [00:02<00:00, 159.06it/s]\n",
      "100%|██████████| 401/401 [00:02<00:00, 161.22it/s]\n",
      "100%|██████████| 401/401 [00:02<00:00, 156.37it/s]\n",
      "100%|██████████| 401/401 [00:02<00:00, 160.27it/s]\n",
      "100%|██████████| 401/401 [00:02<00:00, 161.20it/s]\n",
      "100%|██████████| 401/401 [00:02<00:00, 146.86it/s]\n",
      "100%|██████████| 401/401 [00:02<00:00, 148.91it/s]\n",
      "100%|██████████| 41/41 [00:00<00:00, 48.61it/s]\n",
      "100%|██████████| 41/41 [00:00<00:00, 45.66it/s]\n",
      "  0%|          | 0/26 [00:00<?, ?it/s]"
     ]
    },
    {
     "name": "stdout",
     "output_type": "stream",
     "text": [
      "Epoch 40: 0.4549583169141612, 0.7981767548812253, 0.7643816396071357\n"
     ]
    },
    {
     "name": "stderr",
     "output_type": "stream",
     "text": [
      "../src/model.py:56: UserWarning: Implicit dimension choice for softmax has been deprecated. Change the call to include dim=X as an argument.\n",
      "  x = F.softmax(self.fc2(x))\n",
      "100%|██████████| 26/26 [00:00<00:00, 35.96it/s]\n",
      "100%|██████████| 26/26 [00:00<00:00, 36.52it/s]\n",
      "  0%|          | 0/401 [00:00<?, ?it/s]"
     ]
    },
    {
     "name": "stdout",
     "output_type": "stream",
     "text": [
      "Epoch 40: 0.4549583169141612, 0.8162167387981905, 0.9336973478939158\n"
     ]
    },
    {
     "name": "stderr",
     "output_type": "stream",
     "text": [
      "../src/model.py:56: UserWarning: Implicit dimension choice for softmax has been deprecated. Change the call to include dim=X as an argument.\n",
      "  x = F.softmax(self.fc2(x))\n",
      "100%|██████████| 401/401 [00:02<00:00, 145.72it/s]\n",
      "100%|██████████| 401/401 [00:02<00:00, 146.81it/s]\n",
      "100%|██████████| 401/401 [00:02<00:00, 158.08it/s]\n",
      "100%|██████████| 401/401 [00:02<00:00, 154.70it/s]\n",
      "100%|██████████| 401/401 [00:02<00:00, 157.55it/s]\n",
      "100%|██████████| 401/401 [00:02<00:00, 157.42it/s]\n",
      "100%|██████████| 401/401 [00:02<00:00, 144.12it/s]\n",
      "100%|██████████| 401/401 [00:02<00:00, 138.01it/s]\n",
      "100%|██████████| 401/401 [00:02<00:00, 150.00it/s]\n",
      "100%|██████████| 401/401 [00:02<00:00, 154.22it/s]\n",
      "100%|██████████| 41/41 [00:00<00:00, 46.47it/s]\n",
      "100%|██████████| 41/41 [00:00<00:00, 50.40it/s]\n",
      "  0%|          | 0/26 [00:00<?, ?it/s]"
     ]
    },
    {
     "name": "stdout",
     "output_type": "stream",
     "text": [
      "Epoch 50: 0.44951222877847286, 0.8000859279221126, 0.7815692469720906\n"
     ]
    },
    {
     "name": "stderr",
     "output_type": "stream",
     "text": [
      "../src/model.py:56: UserWarning: Implicit dimension choice for softmax has been deprecated. Change the call to include dim=X as an argument.\n",
      "  x = F.softmax(self.fc2(x))\n",
      "100%|██████████| 26/26 [00:00<00:00, 37.53it/s]\n",
      "100%|██████████| 26/26 [00:00<00:00, 46.44it/s]\n",
      "  0%|          | 0/401 [00:00<?, ?it/s]"
     ]
    },
    {
     "name": "stdout",
     "output_type": "stream",
     "text": [
      "Epoch 50: 0.44951222877847286, 0.8149471379514659, 0.9391061452513967\n"
     ]
    },
    {
     "name": "stderr",
     "output_type": "stream",
     "text": [
      "../src/model.py:56: UserWarning: Implicit dimension choice for softmax has been deprecated. Change the call to include dim=X as an argument.\n",
      "  x = F.softmax(self.fc2(x))\n",
      "100%|██████████| 401/401 [00:02<00:00, 139.68it/s]\n",
      "100%|██████████| 401/401 [00:02<00:00, 155.89it/s]\n",
      "100%|██████████| 401/401 [00:02<00:00, 159.69it/s]\n",
      "100%|██████████| 401/401 [00:02<00:00, 158.63it/s]\n",
      "100%|██████████| 401/401 [00:02<00:00, 158.59it/s]\n",
      "100%|██████████| 401/401 [00:02<00:00, 158.89it/s]\n",
      "100%|██████████| 401/401 [00:02<00:00, 157.99it/s]\n",
      "100%|██████████| 401/401 [00:02<00:00, 161.36it/s]\n",
      "100%|██████████| 401/401 [00:02<00:00, 160.32it/s]\n",
      "100%|██████████| 401/401 [00:02<00:00, 157.00it/s]\n",
      "100%|██████████| 41/41 [00:00<00:00, 51.83it/s]\n",
      "100%|██████████| 41/41 [00:00<00:00, 56.42it/s]\n",
      "  0%|          | 0/26 [00:00<?, ?it/s]"
     ]
    },
    {
     "name": "stdout",
     "output_type": "stream",
     "text": [
      "Epoch 60: 0.44534778736178715, 0.8049667539321825, 0.7695643505134084\n"
     ]
    },
    {
     "name": "stderr",
     "output_type": "stream",
     "text": [
      "../src/model.py:56: UserWarning: Implicit dimension choice for softmax has been deprecated. Change the call to include dim=X as an argument.\n",
      "  x = F.softmax(self.fc2(x))\n",
      "100%|██████████| 26/26 [00:00<00:00, 33.45it/s]\n",
      "100%|██████████| 26/26 [00:00<00:00, 46.89it/s]\n",
      "  0%|          | 0/401 [00:00<?, ?it/s]"
     ]
    },
    {
     "name": "stdout",
     "output_type": "stream",
     "text": [
      "Epoch 60: 0.44534778736178715, 0.8191162224326204, 0.9333570707969854\n"
     ]
    },
    {
     "name": "stderr",
     "output_type": "stream",
     "text": [
      "../src/model.py:56: UserWarning: Implicit dimension choice for softmax has been deprecated. Change the call to include dim=X as an argument.\n",
      "  x = F.softmax(self.fc2(x))\n",
      "100%|██████████| 401/401 [00:02<00:00, 144.34it/s]\n",
      "100%|██████████| 401/401 [00:02<00:00, 143.89it/s]\n",
      "100%|██████████| 401/401 [00:02<00:00, 156.78it/s]\n",
      "100%|██████████| 401/401 [00:02<00:00, 157.41it/s]\n",
      "100%|██████████| 401/401 [00:02<00:00, 158.26it/s]\n",
      "100%|██████████| 401/401 [00:02<00:00, 152.76it/s]\n",
      "100%|██████████| 401/401 [00:02<00:00, 158.33it/s]\n",
      "100%|██████████| 401/401 [00:02<00:00, 142.89it/s]\n",
      "100%|██████████| 401/401 [00:02<00:00, 156.05it/s]\n",
      "100%|██████████| 401/401 [00:02<00:00, 156.63it/s]\n",
      "100%|██████████| 41/41 [00:00<00:00, 48.78it/s]\n",
      "100%|██████████| 41/41 [00:01<00:00, 40.87it/s]\n",
      "  0%|          | 0/26 [00:00<?, ?it/s]"
     ]
    },
    {
     "name": "stdout",
     "output_type": "stream",
     "text": [
      "Epoch 70: 0.44260873179186017, 0.8065159358201547, 0.781535130676839\n"
     ]
    },
    {
     "name": "stderr",
     "output_type": "stream",
     "text": [
      "../src/model.py:56: UserWarning: Implicit dimension choice for softmax has been deprecated. Change the call to include dim=X as an argument.\n",
      "  x = F.softmax(self.fc2(x))\n",
      "100%|██████████| 26/26 [00:00<00:00, 36.33it/s]\n",
      "100%|██████████| 26/26 [00:00<00:00, 44.65it/s]\n",
      "  0%|          | 0/401 [00:00<?, ?it/s]"
     ]
    },
    {
     "name": "stdout",
     "output_type": "stream",
     "text": [
      "Epoch 70: 0.44260873179186017, 0.8160791360003995, 0.9354877826956891\n"
     ]
    },
    {
     "name": "stderr",
     "output_type": "stream",
     "text": [
      "../src/model.py:56: UserWarning: Implicit dimension choice for softmax has been deprecated. Change the call to include dim=X as an argument.\n",
      "  x = F.softmax(self.fc2(x))\n",
      "100%|██████████| 401/401 [00:02<00:00, 137.58it/s]\n",
      "100%|██████████| 401/401 [00:02<00:00, 148.58it/s]\n",
      "100%|██████████| 401/401 [00:02<00:00, 158.56it/s]\n",
      "100%|██████████| 401/401 [00:02<00:00, 150.13it/s]\n",
      "100%|██████████| 401/401 [00:02<00:00, 143.57it/s]\n",
      "100%|██████████| 401/401 [00:02<00:00, 152.67it/s]\n",
      "100%|██████████| 401/401 [00:02<00:00, 148.01it/s]\n",
      "100%|██████████| 401/401 [00:02<00:00, 157.72it/s]\n",
      "100%|██████████| 401/401 [00:02<00:00, 151.54it/s]\n",
      "100%|██████████| 401/401 [00:02<00:00, 153.73it/s]\n",
      "100%|██████████| 41/41 [00:00<00:00, 47.38it/s]\n",
      "100%|██████████| 41/41 [00:00<00:00, 49.57it/s]\n",
      "  0%|          | 0/26 [00:00<?, ?it/s]"
     ]
    },
    {
     "name": "stdout",
     "output_type": "stream",
     "text": [
      "Epoch 80: 0.4375151739899357, 0.8046820099153131, 0.7882527408505905\n"
     ]
    },
    {
     "name": "stderr",
     "output_type": "stream",
     "text": [
      "../src/model.py:56: UserWarning: Implicit dimension choice for softmax has been deprecated. Change the call to include dim=X as an argument.\n",
      "  x = F.softmax(self.fc2(x))\n",
      "100%|██████████| 26/26 [00:00<00:00, 36.59it/s]\n",
      "100%|██████████| 26/26 [00:00<00:00, 42.60it/s]\n",
      "  0%|          | 0/401 [00:00<?, ?it/s]"
     ]
    },
    {
     "name": "stdout",
     "output_type": "stream",
     "text": [
      "Epoch 80: 0.4375151739899357, 0.8147767757749359, 0.9388020833333334\n"
     ]
    },
    {
     "name": "stderr",
     "output_type": "stream",
     "text": [
      "../src/model.py:56: UserWarning: Implicit dimension choice for softmax has been deprecated. Change the call to include dim=X as an argument.\n",
      "  x = F.softmax(self.fc2(x))\n",
      "100%|██████████| 401/401 [00:02<00:00, 141.10it/s]\n",
      "100%|██████████| 401/401 [00:02<00:00, 150.62it/s]\n",
      "100%|██████████| 401/401 [00:02<00:00, 151.31it/s]\n",
      "100%|██████████| 401/401 [00:02<00:00, 156.87it/s]\n",
      "100%|██████████| 401/401 [00:02<00:00, 156.95it/s]\n",
      "100%|██████████| 401/401 [00:02<00:00, 160.35it/s]\n",
      "100%|██████████| 401/401 [00:02<00:00, 160.48it/s]\n",
      "100%|██████████| 401/401 [00:02<00:00, 147.72it/s]\n",
      "100%|██████████| 401/401 [00:02<00:00, 158.86it/s]\n",
      "100%|██████████| 401/401 [00:02<00:00, 151.53it/s]\n",
      "100%|██████████| 41/41 [00:00<00:00, 49.31it/s]\n",
      "100%|██████████| 41/41 [00:00<00:00, 54.86it/s]\n",
      "  0%|          | 0/26 [00:00<?, ?it/s]"
     ]
    },
    {
     "name": "stdout",
     "output_type": "stream",
     "text": [
      "Epoch 90: 0.437238834148036, 0.8080102826023696, 0.7900226518463889\n"
     ]
    },
    {
     "name": "stderr",
     "output_type": "stream",
     "text": [
      "../src/model.py:56: UserWarning: Implicit dimension choice for softmax has been deprecated. Change the call to include dim=X as an argument.\n",
      "  x = F.softmax(self.fc2(x))\n",
      "100%|██████████| 26/26 [00:00<00:00, 37.69it/s]\n",
      "100%|██████████| 26/26 [00:00<00:00, 37.20it/s]\n",
      "  0%|          | 0/401 [00:00<?, ?it/s]"
     ]
    },
    {
     "name": "stdout",
     "output_type": "stream",
     "text": [
      "Epoch 90: 0.437238834148036, 0.813676586039519, 0.9364786828848753\n"
     ]
    },
    {
     "name": "stderr",
     "output_type": "stream",
     "text": [
      "../src/model.py:56: UserWarning: Implicit dimension choice for softmax has been deprecated. Change the call to include dim=X as an argument.\n",
      "  x = F.softmax(self.fc2(x))\n",
      "100%|██████████| 401/401 [00:02<00:00, 136.57it/s]\n",
      "100%|██████████| 401/401 [00:02<00:00, 149.54it/s]\n",
      "100%|██████████| 401/401 [00:02<00:00, 160.57it/s]\n",
      "100%|██████████| 401/401 [00:02<00:00, 149.68it/s]\n",
      "100%|██████████| 401/401 [00:02<00:00, 148.36it/s]\n",
      "100%|██████████| 401/401 [00:02<00:00, 147.05it/s]\n",
      "100%|██████████| 401/401 [00:02<00:00, 156.18it/s]\n",
      "100%|██████████| 401/401 [00:02<00:00, 160.45it/s]\n",
      "100%|██████████| 401/401 [00:02<00:00, 154.83it/s]\n",
      "  0%|          | 0/401 [00:00<?, ?it/s]../src/model.py:80: UserWarning: Implicit dimension choice for softmax has been deprecated. Change the call to include dim=X as an argument.\n",
      "  x = F.softmax(self.fc2(x))\n",
      "100%|██████████| 401/401 [00:03<00:00, 108.43it/s]\n",
      "100%|██████████| 41/41 [00:01<00:00, 39.19it/s]\n",
      "100%|██████████| 41/41 [00:00<00:00, 52.35it/s]\n",
      "  0%|          | 0/26 [00:00<?, ?it/s]"
     ]
    },
    {
     "name": "stdout",
     "output_type": "stream",
     "text": [
      "Epoch 0: 0.5573385401705554, 0.7603081351879071, 0.7580047185709471\n"
     ]
    },
    {
     "name": "stderr",
     "output_type": "stream",
     "text": [
      "../src/model.py:80: UserWarning: Implicit dimension choice for softmax has been deprecated. Change the call to include dim=X as an argument.\n",
      "  x = F.softmax(self.fc2(x))\n",
      "100%|██████████| 26/26 [00:00<00:00, 32.59it/s]\n",
      "100%|██████████| 26/26 [00:00<00:00, 44.27it/s]\n",
      "  0%|          | 0/401 [00:00<?, ?it/s]"
     ]
    },
    {
     "name": "stdout",
     "output_type": "stream",
     "text": [
      "Epoch 0: 0.5573385401705554, 0.8039960450769721, 0.9518014301430143\n"
     ]
    },
    {
     "name": "stderr",
     "output_type": "stream",
     "text": [
      "../src/model.py:80: UserWarning: Implicit dimension choice for softmax has been deprecated. Change the call to include dim=X as an argument.\n",
      "  x = F.softmax(self.fc2(x))\n",
      "100%|██████████| 401/401 [00:03<00:00, 111.70it/s]\n",
      "100%|██████████| 401/401 [00:03<00:00, 118.49it/s]\n",
      "100%|██████████| 401/401 [00:03<00:00, 106.26it/s]\n",
      "100%|██████████| 401/401 [00:03<00:00, 115.50it/s]\n",
      "100%|██████████| 401/401 [00:03<00:00, 114.74it/s]\n",
      "100%|██████████| 401/401 [00:03<00:00, 107.77it/s]\n",
      "100%|██████████| 401/401 [00:03<00:00, 117.12it/s]\n",
      "100%|██████████| 401/401 [00:03<00:00, 113.45it/s]\n",
      "100%|██████████| 401/401 [00:03<00:00, 115.99it/s]\n",
      "100%|██████████| 401/401 [00:03<00:00, 117.39it/s]\n",
      "100%|██████████| 41/41 [00:00<00:00, 42.58it/s]\n",
      "100%|██████████| 41/41 [00:00<00:00, 46.96it/s]\n",
      "  0%|          | 0/26 [00:00<?, ?it/s]"
     ]
    },
    {
     "name": "stdout",
     "output_type": "stream",
     "text": [
      "Epoch 10: 0.46771967121193236, 0.7931447770319777, 0.7862261364257973\n"
     ]
    },
    {
     "name": "stderr",
     "output_type": "stream",
     "text": [
      "../src/model.py:80: UserWarning: Implicit dimension choice for softmax has been deprecated. Change the call to include dim=X as an argument.\n",
      "  x = F.softmax(self.fc2(x))\n",
      "100%|██████████| 26/26 [00:00<00:00, 31.95it/s]\n",
      "100%|██████████| 26/26 [00:00<00:00, 42.41it/s]\n",
      "  0%|          | 0/401 [00:00<?, ?it/s]"
     ]
    },
    {
     "name": "stdout",
     "output_type": "stream",
     "text": [
      "Epoch 10: 0.46771967121193236, 0.8155068796371238, 0.9463986599664992\n"
     ]
    },
    {
     "name": "stderr",
     "output_type": "stream",
     "text": [
      "../src/model.py:80: UserWarning: Implicit dimension choice for softmax has been deprecated. Change the call to include dim=X as an argument.\n",
      "  x = F.softmax(self.fc2(x))\n",
      "100%|██████████| 401/401 [00:03<00:00, 108.68it/s]\n",
      "100%|██████████| 401/401 [00:03<00:00, 118.74it/s]\n",
      "100%|██████████| 401/401 [00:03<00:00, 115.35it/s]\n",
      "100%|██████████| 401/401 [00:03<00:00, 111.29it/s]\n",
      "100%|██████████| 401/401 [00:03<00:00, 115.35it/s]\n",
      "100%|██████████| 401/401 [00:03<00:00, 114.32it/s]\n",
      "100%|██████████| 401/401 [00:03<00:00, 119.78it/s]\n",
      "100%|██████████| 401/401 [00:03<00:00, 116.83it/s]\n",
      "100%|██████████| 401/401 [00:03<00:00, 114.77it/s]\n",
      "100%|██████████| 401/401 [00:03<00:00, 120.41it/s]\n",
      "100%|██████████| 41/41 [00:01<00:00, 40.96it/s]\n",
      "100%|██████████| 41/41 [00:00<00:00, 52.89it/s]\n",
      "  0%|          | 0/26 [00:00<?, ?it/s]"
     ]
    },
    {
     "name": "stdout",
     "output_type": "stream",
     "text": [
      "Epoch 20: 0.40652265304936436, 0.830152071185343, 0.8543826578699341\n"
     ]
    },
    {
     "name": "stderr",
     "output_type": "stream",
     "text": [
      "../src/model.py:80: UserWarning: Implicit dimension choice for softmax has been deprecated. Change the call to include dim=X as an argument.\n",
      "  x = F.softmax(self.fc2(x))\n",
      "100%|██████████| 26/26 [00:00<00:00, 33.52it/s]\n",
      "100%|██████████| 26/26 [00:00<00:00, 33.20it/s]\n",
      "  0%|          | 0/401 [00:00<?, ?it/s]"
     ]
    },
    {
     "name": "stdout",
     "output_type": "stream",
     "text": [
      "Epoch 20: 0.40652265304936436, 0.8192601810275142, 0.9497829326767316\n"
     ]
    },
    {
     "name": "stderr",
     "output_type": "stream",
     "text": [
      "../src/model.py:80: UserWarning: Implicit dimension choice for softmax has been deprecated. Change the call to include dim=X as an argument.\n",
      "  x = F.softmax(self.fc2(x))\n",
      "100%|██████████| 401/401 [00:03<00:00, 107.78it/s]\n",
      "100%|██████████| 401/401 [00:03<00:00, 113.60it/s]\n",
      "100%|██████████| 401/401 [00:03<00:00, 115.31it/s]\n",
      "100%|██████████| 401/401 [00:03<00:00, 117.30it/s]\n",
      "100%|██████████| 401/401 [00:03<00:00, 115.12it/s]\n",
      "100%|██████████| 401/401 [00:03<00:00, 113.87it/s]\n",
      "100%|██████████| 401/401 [00:03<00:00, 115.83it/s]\n",
      "100%|██████████| 401/401 [00:03<00:00, 113.12it/s]\n",
      "100%|██████████| 401/401 [00:03<00:00, 114.78it/s]\n",
      "100%|██████████| 401/401 [00:03<00:00, 113.34it/s]\n",
      "100%|██████████| 41/41 [00:01<00:00, 37.99it/s]\n",
      "100%|██████████| 41/41 [00:00<00:00, 42.21it/s]\n",
      "  0%|          | 0/26 [00:00<?, ?it/s]"
     ]
    },
    {
     "name": "stdout",
     "output_type": "stream",
     "text": [
      "Epoch 30: 0.3449594234290563, 0.8540026071100046, 0.9022027518973283\n"
     ]
    },
    {
     "name": "stderr",
     "output_type": "stream",
     "text": [
      "../src/model.py:80: UserWarning: Implicit dimension choice for softmax has been deprecated. Change the call to include dim=X as an argument.\n",
      "  x = F.softmax(self.fc2(x))\n",
      "100%|██████████| 26/26 [00:00<00:00, 32.69it/s]\n",
      "100%|██████████| 26/26 [00:00<00:00, 40.44it/s]\n",
      "  0%|          | 0/401 [00:00<?, ?it/s]"
     ]
    },
    {
     "name": "stdout",
     "output_type": "stream",
     "text": [
      "Epoch 30: 0.3449594234290563, 0.8171941657050573, 0.9481888745148771\n"
     ]
    },
    {
     "name": "stderr",
     "output_type": "stream",
     "text": [
      "../src/model.py:80: UserWarning: Implicit dimension choice for softmax has been deprecated. Change the call to include dim=X as an argument.\n",
      "  x = F.softmax(self.fc2(x))\n",
      "100%|██████████| 401/401 [00:03<00:00, 105.90it/s]\n",
      "100%|██████████| 401/401 [00:03<00:00, 117.17it/s]\n",
      "100%|██████████| 401/401 [00:03<00:00, 114.35it/s]\n",
      "100%|██████████| 401/401 [00:03<00:00, 108.22it/s]\n",
      "100%|██████████| 401/401 [00:03<00:00, 120.00it/s]\n",
      "100%|██████████| 401/401 [00:03<00:00, 116.26it/s]\n",
      "100%|██████████| 401/401 [00:03<00:00, 117.96it/s]\n",
      "100%|██████████| 401/401 [00:03<00:00, 118.56it/s]\n",
      "100%|██████████| 401/401 [00:03<00:00, 116.87it/s]\n",
      "100%|██████████| 401/401 [00:03<00:00, 115.12it/s]\n",
      "100%|██████████| 41/41 [00:00<00:00, 42.52it/s]\n",
      "100%|██████████| 41/41 [00:00<00:00, 49.05it/s]\n",
      "  0%|          | 0/26 [00:00<?, ?it/s]"
     ]
    },
    {
     "name": "stdout",
     "output_type": "stream",
     "text": [
      "Epoch 40: 0.303152247185719, 0.86081246169235, 0.9384343036978757\n"
     ]
    },
    {
     "name": "stderr",
     "output_type": "stream",
     "text": [
      "../src/model.py:80: UserWarning: Implicit dimension choice for softmax has been deprecated. Change the call to include dim=X as an argument.\n",
      "  x = F.softmax(self.fc2(x))\n",
      "100%|██████████| 26/26 [00:00<00:00, 29.81it/s]\n",
      "100%|██████████| 26/26 [00:00<00:00, 35.39it/s]\n",
      "  0%|          | 0/401 [00:00<?, ?it/s]"
     ]
    },
    {
     "name": "stdout",
     "output_type": "stream",
     "text": [
      "Epoch 40: 0.303152247185719, 0.8102093876924786, 0.9494142705005325\n"
     ]
    },
    {
     "name": "stderr",
     "output_type": "stream",
     "text": [
      "../src/model.py:80: UserWarning: Implicit dimension choice for softmax has been deprecated. Change the call to include dim=X as an argument.\n",
      "  x = F.softmax(self.fc2(x))\n",
      "100%|██████████| 401/401 [00:03<00:00, 110.95it/s]\n",
      "100%|██████████| 401/401 [00:03<00:00, 116.46it/s]\n",
      "100%|██████████| 401/401 [00:03<00:00, 113.16it/s]\n",
      "100%|██████████| 401/401 [00:03<00:00, 110.51it/s]\n",
      "100%|██████████| 401/401 [00:03<00:00, 114.91it/s]\n",
      "100%|██████████| 401/401 [00:03<00:00, 116.15it/s]\n",
      "100%|██████████| 401/401 [00:03<00:00, 116.81it/s]\n",
      "100%|██████████| 401/401 [00:03<00:00, 114.18it/s]\n",
      "100%|██████████| 401/401 [00:03<00:00, 118.19it/s]\n",
      "100%|██████████| 401/401 [00:03<00:00, 114.58it/s]\n",
      "100%|██████████| 41/41 [00:00<00:00, 41.20it/s]\n",
      "100%|██████████| 41/41 [00:00<00:00, 52.58it/s]\n",
      "  0%|          | 0/26 [00:00<?, ?it/s]"
     ]
    },
    {
     "name": "stdout",
     "output_type": "stream",
     "text": [
      "Epoch 50: 0.27790507172557183, 0.8681209055998937, 0.9292916561633476\n"
     ]
    },
    {
     "name": "stderr",
     "output_type": "stream",
     "text": [
      "../src/model.py:80: UserWarning: Implicit dimension choice for softmax has been deprecated. Change the call to include dim=X as an argument.\n",
      "  x = F.softmax(self.fc2(x))\n",
      "100%|██████████| 26/26 [00:00<00:00, 34.05it/s]\n",
      "100%|██████████| 26/26 [00:00<00:00, 43.55it/s]\n",
      "  0%|          | 0/401 [00:00<?, ?it/s]"
     ]
    },
    {
     "name": "stdout",
     "output_type": "stream",
     "text": [
      "Epoch 50: 0.27790507172557183, 0.8154406570075868, 0.9460885229027277\n"
     ]
    },
    {
     "name": "stderr",
     "output_type": "stream",
     "text": [
      "../src/model.py:80: UserWarning: Implicit dimension choice for softmax has been deprecated. Change the call to include dim=X as an argument.\n",
      "  x = F.softmax(self.fc2(x))\n",
      "100%|██████████| 401/401 [00:03<00:00, 103.35it/s]\n",
      "100%|██████████| 401/401 [00:03<00:00, 115.43it/s]\n",
      "100%|██████████| 401/401 [00:03<00:00, 107.82it/s]\n",
      "100%|██████████| 401/401 [00:03<00:00, 119.03it/s]\n",
      "100%|██████████| 401/401 [00:03<00:00, 116.55it/s]\n",
      "100%|██████████| 401/401 [00:03<00:00, 113.97it/s]\n",
      "100%|██████████| 401/401 [00:03<00:00, 115.99it/s]\n",
      "100%|██████████| 401/401 [00:03<00:00, 115.16it/s]\n",
      "100%|██████████| 401/401 [00:03<00:00, 113.16it/s]\n",
      "100%|██████████| 401/401 [00:03<00:00, 106.30it/s]\n",
      "100%|██████████| 41/41 [00:01<00:00, 39.48it/s]\n",
      "100%|██████████| 41/41 [00:00<00:00, 41.27it/s]\n",
      "  0%|          | 0/26 [00:00<?, ?it/s]"
     ]
    },
    {
     "name": "stdout",
     "output_type": "stream",
     "text": [
      "Epoch 60: 0.2605525390094058, 0.8754471886661288, 0.9664908884587143\n"
     ]
    },
    {
     "name": "stderr",
     "output_type": "stream",
     "text": [
      "../src/model.py:80: UserWarning: Implicit dimension choice for softmax has been deprecated. Change the call to include dim=X as an argument.\n",
      "  x = F.softmax(self.fc2(x))\n",
      "100%|██████████| 26/26 [00:00<00:00, 33.20it/s]\n",
      "100%|██████████| 26/26 [00:00<00:00, 34.23it/s]\n",
      "  0%|          | 0/401 [00:00<?, ?it/s]"
     ]
    },
    {
     "name": "stdout",
     "output_type": "stream",
     "text": [
      "Epoch 60: 0.2605525390094058, 0.8122803845856377, 0.9494181433483205\n"
     ]
    },
    {
     "name": "stderr",
     "output_type": "stream",
     "text": [
      "../src/model.py:80: UserWarning: Implicit dimension choice for softmax has been deprecated. Change the call to include dim=X as an argument.\n",
      "  x = F.softmax(self.fc2(x))\n",
      "100%|██████████| 401/401 [00:03<00:00, 104.65it/s]\n",
      "100%|██████████| 401/401 [00:03<00:00, 112.04it/s]\n",
      "100%|██████████| 401/401 [00:03<00:00, 114.55it/s]\n",
      "100%|██████████| 401/401 [00:03<00:00, 116.37it/s]\n",
      "100%|██████████| 401/401 [00:03<00:00, 112.67it/s]\n",
      "100%|██████████| 401/401 [00:03<00:00, 113.29it/s]\n",
      "100%|██████████| 401/401 [00:03<00:00, 111.19it/s]\n",
      "100%|██████████| 401/401 [00:04<00:00, 99.77it/s] \n",
      "100%|██████████| 401/401 [00:03<00:00, 114.16it/s]\n",
      "100%|██████████| 401/401 [00:03<00:00, 114.98it/s]\n",
      "100%|██████████| 41/41 [00:00<00:00, 41.04it/s]\n",
      "100%|██████████| 41/41 [00:00<00:00, 53.33it/s]\n",
      "  0%|          | 0/26 [00:00<?, ?it/s]"
     ]
    },
    {
     "name": "stdout",
     "output_type": "stream",
     "text": [
      "Epoch 70: 0.2485462323834474, 0.8765209370732754, 0.9626180569315105\n"
     ]
    },
    {
     "name": "stderr",
     "output_type": "stream",
     "text": [
      "../src/model.py:80: UserWarning: Implicit dimension choice for softmax has been deprecated. Change the call to include dim=X as an argument.\n",
      "  x = F.softmax(self.fc2(x))\n",
      "100%|██████████| 26/26 [00:00<00:00, 33.16it/s]\n",
      "100%|██████████| 26/26 [00:00<00:00, 43.69it/s]\n",
      "  0%|          | 0/401 [00:00<?, ?it/s]"
     ]
    },
    {
     "name": "stdout",
     "output_type": "stream",
     "text": [
      "Epoch 70: 0.2485462323834474, 0.8179296910579842, 0.9518611074575826\n"
     ]
    },
    {
     "name": "stderr",
     "output_type": "stream",
     "text": [
      "../src/model.py:80: UserWarning: Implicit dimension choice for softmax has been deprecated. Change the call to include dim=X as an argument.\n",
      "  x = F.softmax(self.fc2(x))\n",
      "100%|██████████| 401/401 [00:03<00:00, 106.20it/s]\n",
      "100%|██████████| 401/401 [00:03<00:00, 114.04it/s]\n",
      "100%|██████████| 401/401 [00:03<00:00, 114.66it/s]\n",
      "100%|██████████| 401/401 [00:03<00:00, 113.14it/s]\n",
      "100%|██████████| 401/401 [00:03<00:00, 112.89it/s]\n",
      "100%|██████████| 401/401 [00:03<00:00, 111.44it/s]\n",
      "100%|██████████| 401/401 [00:03<00:00, 110.40it/s]\n",
      "100%|██████████| 401/401 [00:03<00:00, 112.17it/s]\n",
      "100%|██████████| 401/401 [00:03<00:00, 114.00it/s]\n",
      "100%|██████████| 401/401 [00:03<00:00, 108.27it/s]\n",
      "100%|██████████| 41/41 [00:01<00:00, 39.98it/s]\n",
      "100%|██████████| 41/41 [00:00<00:00, 51.18it/s]\n",
      "  0%|          | 0/26 [00:00<?, ?it/s]"
     ]
    },
    {
     "name": "stdout",
     "output_type": "stream",
     "text": [
      "Epoch 80: 0.2406736062351902, 0.8796849826925099, 0.9430045294413689\n"
     ]
    },
    {
     "name": "stderr",
     "output_type": "stream",
     "text": [
      "../src/model.py:80: UserWarning: Implicit dimension choice for softmax has been deprecated. Change the call to include dim=X as an argument.\n",
      "  x = F.softmax(self.fc2(x))\n",
      "100%|██████████| 26/26 [00:00<00:00, 32.60it/s]\n",
      "100%|██████████| 26/26 [00:00<00:00, 35.06it/s]\n",
      "  0%|          | 0/401 [00:00<?, ?it/s]"
     ]
    },
    {
     "name": "stdout",
     "output_type": "stream",
     "text": [
      "Epoch 80: 0.2406736062351902, 0.8175024826154076, 0.9442861665083887\n"
     ]
    },
    {
     "name": "stderr",
     "output_type": "stream",
     "text": [
      "../src/model.py:80: UserWarning: Implicit dimension choice for softmax has been deprecated. Change the call to include dim=X as an argument.\n",
      "  x = F.softmax(self.fc2(x))\n",
      "100%|██████████| 401/401 [00:03<00:00, 110.65it/s]\n",
      "100%|██████████| 401/401 [00:03<00:00, 110.26it/s]\n",
      "100%|██████████| 401/401 [00:03<00:00, 102.27it/s]\n",
      "100%|██████████| 401/401 [00:03<00:00, 115.02it/s]\n",
      "100%|██████████| 401/401 [00:03<00:00, 114.53it/s]\n",
      "100%|██████████| 401/401 [00:03<00:00, 112.35it/s]\n",
      "100%|██████████| 401/401 [00:03<00:00, 112.32it/s]\n",
      "100%|██████████| 401/401 [00:03<00:00, 112.08it/s]\n",
      "100%|██████████| 401/401 [00:03<00:00, 112.44it/s]\n",
      "100%|██████████| 401/401 [00:03<00:00, 113.52it/s]\n",
      "100%|██████████| 41/41 [00:01<00:00, 38.15it/s]\n",
      "100%|██████████| 41/41 [00:00<00:00, 44.32it/s]\n",
      "  0%|          | 0/26 [00:00<?, ?it/s]"
     ]
    },
    {
     "name": "stdout",
     "output_type": "stream",
     "text": [
      "Epoch 90: 0.23838508976367942, 0.8720726354842115, 0.9885372714486639\n"
     ]
    },
    {
     "name": "stderr",
     "output_type": "stream",
     "text": [
      "../src/model.py:80: UserWarning: Implicit dimension choice for softmax has been deprecated. Change the call to include dim=X as an argument.\n",
      "  x = F.softmax(self.fc2(x))\n",
      "100%|██████████| 26/26 [00:00<00:00, 31.49it/s]\n",
      "100%|██████████| 26/26 [00:00<00:00, 42.20it/s]\n",
      "  0%|          | 0/401 [00:00<?, ?it/s]"
     ]
    },
    {
     "name": "stdout",
     "output_type": "stream",
     "text": [
      "Epoch 90: 0.23838508976367942, 0.8096523399933317, 0.9551101654197268\n"
     ]
    },
    {
     "name": "stderr",
     "output_type": "stream",
     "text": [
      "../src/model.py:80: UserWarning: Implicit dimension choice for softmax has been deprecated. Change the call to include dim=X as an argument.\n",
      "  x = F.softmax(self.fc2(x))\n",
      "100%|██████████| 401/401 [00:04<00:00, 96.80it/s] \n",
      "100%|██████████| 401/401 [00:03<00:00, 111.77it/s]\n",
      "100%|██████████| 401/401 [00:03<00:00, 114.35it/s]\n",
      "100%|██████████| 401/401 [00:03<00:00, 113.33it/s]\n",
      "100%|██████████| 401/401 [00:03<00:00, 109.78it/s]\n",
      "100%|██████████| 401/401 [00:03<00:00, 104.01it/s]\n",
      "100%|██████████| 401/401 [00:03<00:00, 113.85it/s]\n",
      "100%|██████████| 401/401 [00:03<00:00, 106.56it/s]\n",
      "100%|██████████| 401/401 [00:03<00:00, 109.96it/s]\n",
      "  0%|          | 0/401 [00:00<?, ?it/s]../src/model.py:104: UserWarning: Implicit dimension choice for softmax has been deprecated. Change the call to include dim=X as an argument.\n",
      "  x = F.softmax(self.fc2(x))\n",
      "100%|██████████| 401/401 [00:02<00:00, 134.71it/s]\n",
      "100%|██████████| 41/41 [00:01<00:00, 39.56it/s]\n",
      "100%|██████████| 41/41 [00:00<00:00, 45.87it/s]\n",
      "  0%|          | 0/26 [00:00<?, ?it/s]"
     ]
    },
    {
     "name": "stdout",
     "output_type": "stream",
     "text": [
      "Epoch 0: 0.5717130748559709, 0.758503939550544, 0.7751362357027367\n"
     ]
    },
    {
     "name": "stderr",
     "output_type": "stream",
     "text": [
      "../src/model.py:104: UserWarning: Implicit dimension choice for softmax has been deprecated. Change the call to include dim=X as an argument.\n",
      "  x = F.softmax(self.fc2(x))\n",
      "100%|██████████| 26/26 [00:00<00:00, 28.57it/s]\n",
      "100%|██████████| 26/26 [00:00<00:00, 39.62it/s]\n",
      "  0%|          | 0/401 [00:00<?, ?it/s]"
     ]
    },
    {
     "name": "stdout",
     "output_type": "stream",
     "text": [
      "Epoch 0: 0.5717130748559709, 0.7966605795699291, 0.9560835133189345\n"
     ]
    },
    {
     "name": "stderr",
     "output_type": "stream",
     "text": [
      "../src/model.py:104: UserWarning: Implicit dimension choice for softmax has been deprecated. Change the call to include dim=X as an argument.\n",
      "  x = F.softmax(self.fc2(x))\n",
      "100%|██████████| 401/401 [00:03<00:00, 126.28it/s]\n",
      "100%|██████████| 401/401 [00:02<00:00, 140.37it/s]\n",
      "100%|██████████| 401/401 [00:02<00:00, 148.97it/s]\n",
      "100%|██████████| 401/401 [00:02<00:00, 147.61it/s]\n",
      "100%|██████████| 401/401 [00:03<00:00, 132.48it/s]\n",
      "100%|██████████| 401/401 [00:02<00:00, 133.69it/s]\n",
      "100%|██████████| 401/401 [00:02<00:00, 148.52it/s]\n",
      "100%|██████████| 401/401 [00:02<00:00, 137.43it/s]\n",
      "100%|██████████| 401/401 [00:03<00:00, 128.53it/s]\n",
      "100%|██████████| 401/401 [00:02<00:00, 138.61it/s]\n",
      "100%|██████████| 41/41 [00:01<00:00, 37.11it/s]\n",
      "100%|██████████| 41/41 [00:00<00:00, 45.56it/s]\n",
      "  0%|          | 0/26 [00:00<?, ?it/s]"
     ]
    },
    {
     "name": "stdout",
     "output_type": "stream",
     "text": [
      "Epoch 10: 0.4741270939013607, 0.7896727941188397, 0.8058395018211726\n"
     ]
    },
    {
     "name": "stderr",
     "output_type": "stream",
     "text": [
      "../src/model.py:104: UserWarning: Implicit dimension choice for softmax has been deprecated. Change the call to include dim=X as an argument.\n",
      "  x = F.softmax(self.fc2(x))\n",
      "100%|██████████| 26/26 [00:00<00:00, 32.42it/s]\n",
      "100%|██████████| 26/26 [00:00<00:00, 32.99it/s]\n",
      "  0%|          | 0/401 [00:00<?, ?it/s]"
     ]
    },
    {
     "name": "stdout",
     "output_type": "stream",
     "text": [
      "Epoch 10: 0.4741270939013607, 0.8037716062536351, 0.9489962018448183\n"
     ]
    },
    {
     "name": "stderr",
     "output_type": "stream",
     "text": [
      "../src/model.py:104: UserWarning: Implicit dimension choice for softmax has been deprecated. Change the call to include dim=X as an argument.\n",
      "  x = F.softmax(self.fc2(x))\n",
      "100%|██████████| 401/401 [00:02<00:00, 140.17it/s]\n",
      "100%|██████████| 401/401 [00:02<00:00, 145.06it/s]\n",
      "100%|██████████| 401/401 [00:02<00:00, 145.24it/s]\n",
      "100%|██████████| 401/401 [00:02<00:00, 148.65it/s]\n",
      "100%|██████████| 401/401 [00:03<00:00, 132.38it/s]\n",
      "100%|██████████| 401/401 [00:02<00:00, 144.87it/s]\n",
      "100%|██████████| 401/401 [00:02<00:00, 141.92it/s]\n",
      "100%|██████████| 401/401 [00:02<00:00, 144.02it/s]\n",
      "100%|██████████| 401/401 [00:02<00:00, 145.77it/s]\n",
      "100%|██████████| 401/401 [00:03<00:00, 133.10it/s]\n",
      "100%|██████████| 41/41 [00:00<00:00, 41.39it/s]\n",
      "100%|██████████| 41/41 [00:00<00:00, 41.30it/s]\n",
      "  0%|          | 0/26 [00:00<?, ?it/s]"
     ]
    },
    {
     "name": "stdout",
     "output_type": "stream",
     "text": [
      "Epoch 20: 0.443755005288897, 0.8048258973226589, 0.8416959822255138\n"
     ]
    },
    {
     "name": "stderr",
     "output_type": "stream",
     "text": [
      "../src/model.py:104: UserWarning: Implicit dimension choice for softmax has been deprecated. Change the call to include dim=X as an argument.\n",
      "  x = F.softmax(self.fc2(x))\n",
      "100%|██████████| 26/26 [00:00<00:00, 31.92it/s]\n",
      "100%|██████████| 26/26 [00:00<00:00, 33.78it/s]\n",
      "  0%|          | 0/401 [00:00<?, ?it/s]"
     ]
    },
    {
     "name": "stdout",
     "output_type": "stream",
     "text": [
      "Epoch 20: 0.443755005288897, 0.8037948424110064, 0.9519416138804737\n"
     ]
    },
    {
     "name": "stderr",
     "output_type": "stream",
     "text": [
      "../src/model.py:104: UserWarning: Implicit dimension choice for softmax has been deprecated. Change the call to include dim=X as an argument.\n",
      "  x = F.softmax(self.fc2(x))\n",
      "100%|██████████| 401/401 [00:02<00:00, 135.09it/s]\n",
      "100%|██████████| 401/401 [00:02<00:00, 145.51it/s]\n",
      "100%|██████████| 401/401 [00:03<00:00, 129.61it/s]\n",
      "100%|██████████| 401/401 [00:03<00:00, 130.71it/s]\n",
      "100%|██████████| 401/401 [00:02<00:00, 141.62it/s]\n",
      "100%|██████████| 401/401 [00:02<00:00, 150.72it/s]\n",
      "100%|██████████| 401/401 [00:02<00:00, 146.79it/s]\n",
      "100%|██████████| 401/401 [00:02<00:00, 143.26it/s]\n",
      "100%|██████████| 401/401 [00:02<00:00, 149.29it/s]\n",
      "100%|██████████| 401/401 [00:02<00:00, 141.92it/s]\n",
      "100%|██████████| 41/41 [00:01<00:00, 39.82it/s]\n",
      "100%|██████████| 41/41 [00:00<00:00, 44.71it/s]\n",
      "  0%|          | 0/26 [00:00<?, ?it/s]"
     ]
    },
    {
     "name": "stdout",
     "output_type": "stream",
     "text": [
      "Epoch 30: 0.42127001237244976, 0.815244004678883, 0.8412206460841578\n"
     ]
    },
    {
     "name": "stderr",
     "output_type": "stream",
     "text": [
      "../src/model.py:104: UserWarning: Implicit dimension choice for softmax has been deprecated. Change the call to include dim=X as an argument.\n",
      "  x = F.softmax(self.fc2(x))\n",
      "100%|██████████| 26/26 [00:00<00:00, 29.94it/s]\n",
      "100%|██████████| 26/26 [00:00<00:00, 38.62it/s]\n",
      "  0%|          | 0/401 [00:00<?, ?it/s]"
     ]
    },
    {
     "name": "stdout",
     "output_type": "stream",
     "text": [
      "Epoch 30: 0.42127001237244976, 0.8100816600520848, 0.9488711819389111\n"
     ]
    },
    {
     "name": "stderr",
     "output_type": "stream",
     "text": [
      "../src/model.py:104: UserWarning: Implicit dimension choice for softmax has been deprecated. Change the call to include dim=X as an argument.\n",
      "  x = F.softmax(self.fc2(x))\n",
      "100%|██████████| 401/401 [00:03<00:00, 122.07it/s]\n",
      "100%|██████████| 401/401 [00:02<00:00, 142.67it/s]\n",
      "100%|██████████| 401/401 [00:02<00:00, 147.59it/s]\n",
      "100%|██████████| 401/401 [00:02<00:00, 138.57it/s]\n",
      "100%|██████████| 401/401 [00:02<00:00, 142.16it/s]\n",
      "100%|██████████| 401/401 [00:02<00:00, 142.38it/s]\n",
      "100%|██████████| 401/401 [00:02<00:00, 144.90it/s]\n",
      "100%|██████████| 401/401 [00:02<00:00, 146.64it/s]\n",
      "100%|██████████| 401/401 [00:02<00:00, 146.25it/s]\n",
      "100%|██████████| 401/401 [00:02<00:00, 148.12it/s]\n",
      "100%|██████████| 41/41 [00:01<00:00, 34.64it/s]\n",
      "100%|██████████| 41/41 [00:00<00:00, 44.74it/s]\n",
      "  0%|          | 0/26 [00:00<?, ?it/s]"
     ]
    },
    {
     "name": "stdout",
     "output_type": "stream",
     "text": [
      "Epoch 40: 0.40127900785341525, 0.8161573528839632, 0.8786353833082805\n"
     ]
    },
    {
     "name": "stderr",
     "output_type": "stream",
     "text": [
      "../src/model.py:104: UserWarning: Implicit dimension choice for softmax has been deprecated. Change the call to include dim=X as an argument.\n",
      "  x = F.softmax(self.fc2(x))\n",
      "100%|██████████| 26/26 [00:00<00:00, 29.64it/s]\n",
      "100%|██████████| 26/26 [00:00<00:00, 39.65it/s]\n",
      "  0%|          | 0/401 [00:00<?, ?it/s]"
     ]
    },
    {
     "name": "stdout",
     "output_type": "stream",
     "text": [
      "Epoch 40: 0.40127900785341525, 0.8008548190977585, 0.954731349598082\n"
     ]
    },
    {
     "name": "stderr",
     "output_type": "stream",
     "text": [
      "../src/model.py:104: UserWarning: Implicit dimension choice for softmax has been deprecated. Change the call to include dim=X as an argument.\n",
      "  x = F.softmax(self.fc2(x))\n",
      "100%|██████████| 401/401 [00:03<00:00, 132.36it/s]\n",
      "100%|██████████| 401/401 [00:03<00:00, 130.00it/s]\n",
      "100%|██████████| 401/401 [00:02<00:00, 145.09it/s]\n",
      "100%|██████████| 401/401 [00:03<00:00, 132.47it/s]\n",
      "100%|██████████| 401/401 [00:02<00:00, 148.76it/s]\n",
      "100%|██████████| 401/401 [00:02<00:00, 141.85it/s]\n",
      "100%|██████████| 401/401 [00:02<00:00, 147.13it/s]\n",
      "100%|██████████| 401/401 [00:02<00:00, 144.23it/s]\n",
      "100%|██████████| 401/401 [00:02<00:00, 144.48it/s]\n",
      "100%|██████████| 401/401 [00:02<00:00, 134.30it/s]\n",
      "100%|██████████| 41/41 [00:01<00:00, 40.17it/s]\n",
      "100%|██████████| 41/41 [00:00<00:00, 47.94it/s]\n",
      "  0%|          | 0/26 [00:00<?, ?it/s]"
     ]
    },
    {
     "name": "stdout",
     "output_type": "stream",
     "text": [
      "Epoch 50: 0.3910278058111519, 0.8230877593525068, 0.8695353055225468\n"
     ]
    },
    {
     "name": "stderr",
     "output_type": "stream",
     "text": [
      "../src/model.py:104: UserWarning: Implicit dimension choice for softmax has been deprecated. Change the call to include dim=X as an argument.\n",
      "  x = F.softmax(self.fc2(x))\n",
      "100%|██████████| 26/26 [00:00<00:00, 31.59it/s]\n",
      "100%|██████████| 26/26 [00:00<00:00, 40.03it/s]\n",
      "  0%|          | 0/401 [00:00<?, ?it/s]"
     ]
    },
    {
     "name": "stdout",
     "output_type": "stream",
     "text": [
      "Epoch 50: 0.3910278058111519, 0.8011920576082411, 0.9468344155844156\n"
     ]
    },
    {
     "name": "stderr",
     "output_type": "stream",
     "text": [
      "../src/model.py:104: UserWarning: Implicit dimension choice for softmax has been deprecated. Change the call to include dim=X as an argument.\n",
      "  x = F.softmax(self.fc2(x))\n",
      "100%|██████████| 401/401 [00:02<00:00, 139.47it/s]\n",
      "100%|██████████| 401/401 [00:02<00:00, 146.88it/s]\n",
      "100%|██████████| 401/401 [00:02<00:00, 141.96it/s]\n",
      "100%|██████████| 401/401 [00:02<00:00, 140.88it/s]\n",
      "100%|██████████| 401/401 [00:02<00:00, 136.21it/s]\n",
      "100%|██████████| 401/401 [00:02<00:00, 142.43it/s]\n",
      "100%|██████████| 401/401 [00:03<00:00, 133.15it/s]\n",
      "100%|██████████| 401/401 [00:03<00:00, 130.79it/s]\n",
      "100%|██████████| 401/401 [00:02<00:00, 143.13it/s]\n",
      "100%|██████████| 401/401 [00:02<00:00, 136.57it/s]\n",
      "100%|██████████| 41/41 [00:01<00:00, 40.23it/s]\n",
      "100%|██████████| 41/41 [00:01<00:00, 40.62it/s]\n",
      "  0%|          | 0/26 [00:00<?, ?it/s]"
     ]
    },
    {
     "name": "stdout",
     "output_type": "stream",
     "text": [
      "Epoch 60: 0.37733470115281104, 0.8300687934956608, 0.8654626992303497\n"
     ]
    },
    {
     "name": "stderr",
     "output_type": "stream",
     "text": [
      "../src/model.py:104: UserWarning: Implicit dimension choice for softmax has been deprecated. Change the call to include dim=X as an argument.\n",
      "  x = F.softmax(self.fc2(x))\n",
      "100%|██████████| 26/26 [00:00<00:00, 32.75it/s]\n",
      "100%|██████████| 26/26 [00:00<00:00, 42.43it/s]\n",
      "  0%|          | 0/401 [00:00<?, ?it/s]"
     ]
    },
    {
     "name": "stdout",
     "output_type": "stream",
     "text": [
      "Epoch 60: 0.37733470115281104, 0.8066574649360687, 0.944688957498522\n"
     ]
    },
    {
     "name": "stderr",
     "output_type": "stream",
     "text": [
      "../src/model.py:104: UserWarning: Implicit dimension choice for softmax has been deprecated. Change the call to include dim=X as an argument.\n",
      "  x = F.softmax(self.fc2(x))\n",
      "100%|██████████| 401/401 [00:02<00:00, 135.85it/s]\n",
      "100%|██████████| 401/401 [00:02<00:00, 142.05it/s]\n",
      "100%|██████████| 401/401 [00:02<00:00, 143.59it/s]\n",
      "100%|██████████| 401/401 [00:02<00:00, 143.39it/s]\n",
      "100%|██████████| 401/401 [00:02<00:00, 146.53it/s]\n",
      "100%|██████████| 401/401 [00:02<00:00, 148.93it/s]\n",
      "100%|██████████| 401/401 [00:02<00:00, 142.91it/s]\n",
      "100%|██████████| 401/401 [00:02<00:00, 141.15it/s]\n",
      "100%|██████████| 401/401 [00:02<00:00, 145.73it/s]\n",
      "100%|██████████| 401/401 [00:02<00:00, 149.14it/s]\n",
      "100%|██████████| 41/41 [00:01<00:00, 35.78it/s]\n",
      "100%|██████████| 41/41 [00:00<00:00, 46.98it/s]\n",
      "  0%|          | 0/26 [00:00<?, ?it/s]"
     ]
    },
    {
     "name": "stdout",
     "output_type": "stream",
     "text": [
      "Epoch 70: 0.3675726232237352, 0.8330280350420619, 0.8773970060621057\n"
     ]
    },
    {
     "name": "stderr",
     "output_type": "stream",
     "text": [
      "../src/model.py:104: UserWarning: Implicit dimension choice for softmax has been deprecated. Change the call to include dim=X as an argument.\n",
      "  x = F.softmax(self.fc2(x))\n",
      "100%|██████████| 26/26 [00:00<00:00, 27.75it/s]\n",
      "100%|██████████| 26/26 [00:00<00:00, 33.80it/s]\n",
      "  0%|          | 0/401 [00:00<?, ?it/s]"
     ]
    },
    {
     "name": "stdout",
     "output_type": "stream",
     "text": [
      "Epoch 70: 0.3675726232237352, 0.8048751226224731, 0.9453099105071263\n"
     ]
    },
    {
     "name": "stderr",
     "output_type": "stream",
     "text": [
      "../src/model.py:104: UserWarning: Implicit dimension choice for softmax has been deprecated. Change the call to include dim=X as an argument.\n",
      "  x = F.softmax(self.fc2(x))\n",
      "100%|██████████| 401/401 [00:03<00:00, 125.91it/s]\n",
      "100%|██████████| 401/401 [00:02<00:00, 142.42it/s]\n",
      "100%|██████████| 401/401 [00:02<00:00, 143.87it/s]\n",
      "100%|██████████| 401/401 [00:02<00:00, 139.09it/s]\n",
      "100%|██████████| 401/401 [00:02<00:00, 148.37it/s]\n",
      "100%|██████████| 401/401 [00:02<00:00, 140.32it/s]\n",
      "100%|██████████| 401/401 [00:02<00:00, 148.76it/s]\n",
      "100%|██████████| 401/401 [00:02<00:00, 148.54it/s]\n",
      "100%|██████████| 401/401 [00:02<00:00, 142.10it/s]\n",
      "100%|██████████| 401/401 [00:02<00:00, 147.05it/s]\n",
      "100%|██████████| 41/41 [00:01<00:00, 38.83it/s]\n",
      "100%|██████████| 41/41 [00:00<00:00, 44.82it/s]\n",
      "  0%|          | 0/26 [00:00<?, ?it/s]"
     ]
    },
    {
     "name": "stdout",
     "output_type": "stream",
     "text": [
      "Epoch 80: 0.36005822630445855, 0.8351888853344498, 0.9080702681283847\n"
     ]
    },
    {
     "name": "stderr",
     "output_type": "stream",
     "text": [
      "../src/model.py:104: UserWarning: Implicit dimension choice for softmax has been deprecated. Change the call to include dim=X as an argument.\n",
      "  x = F.softmax(self.fc2(x))\n",
      "100%|██████████| 26/26 [00:00<00:00, 29.02it/s]\n",
      "100%|██████████| 26/26 [00:00<00:00, 39.62it/s]\n",
      "  0%|          | 0/401 [00:00<?, ?it/s]"
     ]
    },
    {
     "name": "stdout",
     "output_type": "stream",
     "text": [
      "Epoch 80: 0.36005822630445855, 0.8019014600904124, 0.9512565589616128\n"
     ]
    },
    {
     "name": "stderr",
     "output_type": "stream",
     "text": [
      "../src/model.py:104: UserWarning: Implicit dimension choice for softmax has been deprecated. Change the call to include dim=X as an argument.\n",
      "  x = F.softmax(self.fc2(x))\n",
      "100%|██████████| 401/401 [00:03<00:00, 123.03it/s]\n",
      "100%|██████████| 401/401 [00:02<00:00, 136.60it/s]\n",
      "100%|██████████| 401/401 [00:02<00:00, 139.65it/s]\n",
      "100%|██████████| 401/401 [00:02<00:00, 146.77it/s]\n",
      "100%|██████████| 401/401 [00:02<00:00, 143.67it/s]\n",
      "100%|██████████| 401/401 [00:02<00:00, 135.66it/s]\n",
      "100%|██████████| 401/401 [00:03<00:00, 129.86it/s]\n",
      "100%|██████████| 401/401 [00:03<00:00, 132.14it/s]\n",
      "100%|██████████| 401/401 [00:02<00:00, 146.48it/s]\n",
      "100%|██████████| 401/401 [00:02<00:00, 149.64it/s]\n",
      "100%|██████████| 41/41 [00:01<00:00, 36.10it/s]\n",
      "100%|██████████| 41/41 [00:00<00:00, 50.53it/s]\n",
      "  0%|          | 0/26 [00:00<?, ?it/s]"
     ]
    },
    {
     "name": "stdout",
     "output_type": "stream",
     "text": [
      "Epoch 90: 0.35418717708076325, 0.8420467934720532, 0.9158379980243662\n"
     ]
    },
    {
     "name": "stderr",
     "output_type": "stream",
     "text": [
      "../src/model.py:104: UserWarning: Implicit dimension choice for softmax has been deprecated. Change the call to include dim=X as an argument.\n",
      "  x = F.softmax(self.fc2(x))\n",
      "100%|██████████| 26/26 [00:00<00:00, 29.45it/s]\n",
      "100%|██████████| 26/26 [00:00<00:00, 39.94it/s]\n",
      "  0%|          | 0/401 [00:00<?, ?it/s]"
     ]
    },
    {
     "name": "stdout",
     "output_type": "stream",
     "text": [
      "Epoch 90: 0.35418717708076325, 0.7996488348780671, 0.9470460114347945\n"
     ]
    },
    {
     "name": "stderr",
     "output_type": "stream",
     "text": [
      "../src/model.py:104: UserWarning: Implicit dimension choice for softmax has been deprecated. Change the call to include dim=X as an argument.\n",
      "  x = F.softmax(self.fc2(x))\n",
      "100%|██████████| 401/401 [00:03<00:00, 128.29it/s]\n",
      "100%|██████████| 401/401 [00:02<00:00, 135.20it/s]\n",
      "100%|██████████| 401/401 [00:02<00:00, 151.18it/s]\n",
      "100%|██████████| 401/401 [00:02<00:00, 148.95it/s]\n",
      "100%|██████████| 401/401 [00:02<00:00, 150.46it/s]\n",
      "100%|██████████| 401/401 [00:02<00:00, 151.64it/s]\n",
      "100%|██████████| 401/401 [00:02<00:00, 142.10it/s]\n",
      "100%|██████████| 401/401 [00:02<00:00, 147.30it/s]\n",
      "100%|██████████| 401/401 [00:02<00:00, 139.01it/s]\n",
      "  0%|          | 0/401 [00:00<?, ?it/s]../src/model.py:127: UserWarning: Implicit dimension choice for softmax has been deprecated. Change the call to include dim=X as an argument.\n",
      "  x = F.softmax(self.fc2(x))\n",
      "100%|██████████| 401/401 [00:03<00:00, 125.74it/s]\n",
      "100%|██████████| 41/41 [00:00<00:00, 48.15it/s]\n",
      "100%|██████████| 41/41 [00:00<00:00, 54.66it/s]\n",
      "  0%|          | 0/26 [00:00<?, ?it/s]"
     ]
    },
    {
     "name": "stdout",
     "output_type": "stream",
     "text": [
      "Epoch 0: 0.630127802231068, 0.7508401598654142, 0.7041650817801446\n"
     ]
    },
    {
     "name": "stderr",
     "output_type": "stream",
     "text": [
      "../src/model.py:127: UserWarning: Implicit dimension choice for softmax has been deprecated. Change the call to include dim=X as an argument.\n",
      "  x = F.softmax(self.fc2(x))\n",
      "100%|██████████| 26/26 [00:00<00:00, 35.40it/s]\n",
      "100%|██████████| 26/26 [00:00<00:00, 34.64it/s]\n",
      "  0%|          | 0/401 [00:00<?, ?it/s]"
     ]
    },
    {
     "name": "stdout",
     "output_type": "stream",
     "text": [
      "Epoch 0: 0.630127802231068, 0.808654651626485, 0.9332760946890715\n"
     ]
    },
    {
     "name": "stderr",
     "output_type": "stream",
     "text": [
      "../src/model.py:127: UserWarning: Implicit dimension choice for softmax has been deprecated. Change the call to include dim=X as an argument.\n",
      "  x = F.softmax(self.fc2(x))\n",
      "100%|██████████| 401/401 [00:03<00:00, 123.52it/s]\n",
      "100%|██████████| 401/401 [00:03<00:00, 123.98it/s]\n",
      "100%|██████████| 401/401 [00:03<00:00, 119.45it/s]\n",
      "100%|██████████| 401/401 [00:03<00:00, 113.47it/s]\n",
      "100%|██████████| 401/401 [00:03<00:00, 119.22it/s]\n",
      "100%|██████████| 401/401 [00:03<00:00, 130.47it/s]\n",
      "100%|██████████| 401/401 [00:03<00:00, 129.97it/s]\n",
      "100%|██████████| 401/401 [00:03<00:00, 130.45it/s]\n",
      "100%|██████████| 401/401 [00:03<00:00, 117.68it/s]\n",
      "100%|██████████| 401/401 [00:03<00:00, 128.18it/s]\n",
      "100%|██████████| 41/41 [00:00<00:00, 44.48it/s]\n",
      "100%|██████████| 41/41 [00:01<00:00, 40.80it/s]\n",
      "  0%|          | 0/26 [00:00<?, ?it/s]"
     ]
    },
    {
     "name": "stdout",
     "output_type": "stream",
     "text": [
      "Epoch 10: 0.507253497987614, 0.7644198135868432, 0.7695757157640566\n"
     ]
    },
    {
     "name": "stderr",
     "output_type": "stream",
     "text": [
      "../src/model.py:127: UserWarning: Implicit dimension choice for softmax has been deprecated. Change the call to include dim=X as an argument.\n",
      "  x = F.softmax(self.fc2(x))\n",
      "100%|██████████| 26/26 [00:00<00:00, 33.47it/s]\n",
      "100%|██████████| 26/26 [00:00<00:00, 40.89it/s]\n",
      "  0%|          | 0/401 [00:00<?, ?it/s]"
     ]
    },
    {
     "name": "stdout",
     "output_type": "stream",
     "text": [
      "Epoch 10: 0.507253497987614, 0.7989313001597873, 0.9495990044247787\n"
     ]
    },
    {
     "name": "stderr",
     "output_type": "stream",
     "text": [
      "../src/model.py:127: UserWarning: Implicit dimension choice for softmax has been deprecated. Change the call to include dim=X as an argument.\n",
      "  x = F.softmax(self.fc2(x))\n",
      "100%|██████████| 401/401 [00:03<00:00, 112.45it/s]\n",
      "100%|██████████| 401/401 [00:03<00:00, 119.98it/s]\n",
      "100%|██████████| 401/401 [00:03<00:00, 131.42it/s]\n",
      "100%|██████████| 401/401 [00:03<00:00, 129.65it/s]\n",
      "100%|██████████| 401/401 [00:03<00:00, 130.47it/s]\n",
      "100%|██████████| 401/401 [00:03<00:00, 127.54it/s]\n",
      "100%|██████████| 401/401 [00:03<00:00, 130.72it/s]\n",
      "100%|██████████| 401/401 [00:03<00:00, 129.86it/s]\n",
      "100%|██████████| 401/401 [00:03<00:00, 125.31it/s]\n",
      "100%|██████████| 401/401 [00:03<00:00, 131.90it/s]\n",
      "100%|██████████| 41/41 [00:00<00:00, 49.42it/s]\n",
      "100%|██████████| 41/41 [00:00<00:00, 42.36it/s]\n",
      "  0%|          | 0/26 [00:00<?, ?it/s]"
     ]
    },
    {
     "name": "stdout",
     "output_type": "stream",
     "text": [
      "Epoch 20: 0.4989355766862408, 0.7699953436264668, 0.7824734401596525\n"
     ]
    },
    {
     "name": "stderr",
     "output_type": "stream",
     "text": [
      "../src/model.py:127: UserWarning: Implicit dimension choice for softmax has been deprecated. Change the call to include dim=X as an argument.\n",
      "  x = F.softmax(self.fc2(x))\n",
      "100%|██████████| 26/26 [00:00<00:00, 33.78it/s]\n",
      "100%|██████████| 26/26 [00:00<00:00, 33.24it/s]\n",
      "  0%|          | 0/401 [00:00<?, ?it/s]"
     ]
    },
    {
     "name": "stdout",
     "output_type": "stream",
     "text": [
      "Epoch 20: 0.4989355766862408, 0.7992837305755403, 0.9511940402422893\n"
     ]
    },
    {
     "name": "stderr",
     "output_type": "stream",
     "text": [
      "../src/model.py:127: UserWarning: Implicit dimension choice for softmax has been deprecated. Change the call to include dim=X as an argument.\n",
      "  x = F.softmax(self.fc2(x))\n",
      "100%|██████████| 401/401 [00:03<00:00, 114.67it/s]\n",
      "100%|██████████| 401/401 [00:03<00:00, 127.93it/s]\n",
      "100%|██████████| 401/401 [00:03<00:00, 131.22it/s]\n",
      "100%|██████████| 401/401 [00:03<00:00, 126.80it/s]\n",
      "100%|██████████| 401/401 [00:03<00:00, 126.30it/s]\n",
      "100%|██████████| 401/401 [00:03<00:00, 126.89it/s]\n",
      "100%|██████████| 401/401 [00:03<00:00, 131.05it/s]\n",
      "100%|██████████| 401/401 [00:03<00:00, 130.46it/s]\n",
      "100%|██████████| 401/401 [00:03<00:00, 122.08it/s]\n",
      "100%|██████████| 401/401 [00:03<00:00, 129.58it/s]\n",
      "100%|██████████| 41/41 [00:00<00:00, 49.42it/s]\n",
      "100%|██████████| 41/41 [00:00<00:00, 41.11it/s]\n",
      "  0%|          | 0/26 [00:00<?, ?it/s]"
     ]
    },
    {
     "name": "stdout",
     "output_type": "stream",
     "text": [
      "Epoch 30: 0.4895105540306491, 0.7752939518277084, 0.7862969004893964\n"
     ]
    },
    {
     "name": "stderr",
     "output_type": "stream",
     "text": [
      "../src/model.py:127: UserWarning: Implicit dimension choice for softmax has been deprecated. Change the call to include dim=X as an argument.\n",
      "  x = F.softmax(self.fc2(x))\n",
      "100%|██████████| 26/26 [00:00<00:00, 35.31it/s]\n",
      "100%|██████████| 26/26 [00:00<00:00, 35.19it/s]\n",
      "  0%|          | 0/401 [00:00<?, ?it/s]"
     ]
    },
    {
     "name": "stdout",
     "output_type": "stream",
     "text": [
      "Epoch 30: 0.4895105540306491, 0.8027819286211724, 0.9512598099958695\n"
     ]
    },
    {
     "name": "stderr",
     "output_type": "stream",
     "text": [
      "../src/model.py:127: UserWarning: Implicit dimension choice for softmax has been deprecated. Change the call to include dim=X as an argument.\n",
      "  x = F.softmax(self.fc2(x))\n",
      "100%|██████████| 401/401 [00:03<00:00, 113.24it/s]\n",
      "100%|██████████| 401/401 [00:03<00:00, 120.39it/s]\n",
      "100%|██████████| 401/401 [00:03<00:00, 126.26it/s]\n",
      "100%|██████████| 401/401 [00:03<00:00, 126.56it/s]\n",
      "100%|██████████| 401/401 [00:03<00:00, 129.47it/s]\n",
      "100%|██████████| 401/401 [00:03<00:00, 128.47it/s]\n",
      "100%|██████████| 401/401 [00:03<00:00, 130.72it/s]\n",
      "100%|██████████| 401/401 [00:03<00:00, 128.96it/s]\n",
      "100%|██████████| 401/401 [00:03<00:00, 122.11it/s]\n",
      "100%|██████████| 401/401 [00:03<00:00, 130.76it/s]\n",
      "100%|██████████| 41/41 [00:00<00:00, 48.81it/s]\n",
      "100%|██████████| 41/41 [00:00<00:00, 48.06it/s]\n",
      "  0%|          | 0/26 [00:00<?, ?it/s]"
     ]
    },
    {
     "name": "stdout",
     "output_type": "stream",
     "text": [
      "Epoch 40: 0.4803286700920571, 0.7796452067464537, 0.7959352475481508\n"
     ]
    },
    {
     "name": "stderr",
     "output_type": "stream",
     "text": [
      "../src/model.py:127: UserWarning: Implicit dimension choice for softmax has been deprecated. Change the call to include dim=X as an argument.\n",
      "  x = F.softmax(self.fc2(x))\n",
      "100%|██████████| 26/26 [00:00<00:00, 34.67it/s]\n",
      "100%|██████████| 26/26 [00:00<00:00, 43.16it/s]\n",
      "  0%|          | 0/401 [00:00<?, ?it/s]"
     ]
    },
    {
     "name": "stdout",
     "output_type": "stream",
     "text": [
      "Epoch 40: 0.4803286700920571, 0.8034846945953602, 0.952568623383807\n"
     ]
    },
    {
     "name": "stderr",
     "output_type": "stream",
     "text": [
      "../src/model.py:127: UserWarning: Implicit dimension choice for softmax has been deprecated. Change the call to include dim=X as an argument.\n",
      "  x = F.softmax(self.fc2(x))\n",
      "100%|██████████| 401/401 [00:03<00:00, 114.45it/s]\n",
      "100%|██████████| 401/401 [00:03<00:00, 132.07it/s]\n",
      "100%|██████████| 401/401 [00:03<00:00, 127.63it/s]\n",
      "100%|██████████| 401/401 [00:03<00:00, 119.26it/s]\n",
      "100%|██████████| 401/401 [00:03<00:00, 111.35it/s]\n",
      "100%|██████████| 401/401 [00:03<00:00, 126.14it/s]\n",
      "100%|██████████| 401/401 [00:03<00:00, 129.95it/s]\n",
      "100%|██████████| 401/401 [00:03<00:00, 116.86it/s]\n",
      "100%|██████████| 401/401 [00:03<00:00, 120.14it/s]\n",
      "100%|██████████| 401/401 [00:03<00:00, 123.76it/s]\n",
      "100%|██████████| 41/41 [00:00<00:00, 43.82it/s]\n",
      "100%|██████████| 41/41 [00:00<00:00, 42.75it/s]\n",
      "  0%|          | 0/26 [00:00<?, ?it/s]"
     ]
    },
    {
     "name": "stdout",
     "output_type": "stream",
     "text": [
      "Epoch 50: 0.4731205999108027, 0.7800043282138679, 0.7934184330717883\n"
     ]
    },
    {
     "name": "stderr",
     "output_type": "stream",
     "text": [
      "../src/model.py:127: UserWarning: Implicit dimension choice for softmax has been deprecated. Change the call to include dim=X as an argument.\n",
      "  x = F.softmax(self.fc2(x))\n",
      "100%|██████████| 26/26 [00:00<00:00, 33.47it/s]\n",
      "100%|██████████| 26/26 [00:00<00:00, 44.56it/s]\n",
      "  0%|          | 0/401 [00:00<?, ?it/s]"
     ]
    },
    {
     "name": "stdout",
     "output_type": "stream",
     "text": [
      "Epoch 50: 0.4731205999108027, 0.8032979087374572, 0.9512161605057029\n"
     ]
    },
    {
     "name": "stderr",
     "output_type": "stream",
     "text": [
      "../src/model.py:127: UserWarning: Implicit dimension choice for softmax has been deprecated. Change the call to include dim=X as an argument.\n",
      "  x = F.softmax(self.fc2(x))\n",
      "100%|██████████| 401/401 [00:03<00:00, 115.56it/s]\n",
      "100%|██████████| 401/401 [00:03<00:00, 129.10it/s]\n",
      "100%|██████████| 401/401 [00:03<00:00, 130.16it/s]\n",
      "100%|██████████| 401/401 [00:03<00:00, 123.69it/s]\n",
      "100%|██████████| 401/401 [00:03<00:00, 125.20it/s]\n",
      "100%|██████████| 401/401 [00:03<00:00, 130.41it/s]\n",
      "100%|██████████| 401/401 [00:03<00:00, 121.85it/s]\n",
      "100%|██████████| 401/401 [00:03<00:00, 115.21it/s]\n",
      "100%|██████████| 401/401 [00:03<00:00, 124.13it/s]\n",
      "100%|██████████| 401/401 [00:03<00:00, 121.09it/s]\n",
      "100%|██████████| 41/41 [00:00<00:00, 47.94it/s]\n",
      "100%|██████████| 41/41 [00:00<00:00, 51.73it/s]\n",
      "  0%|          | 0/26 [00:00<?, ?it/s]"
     ]
    },
    {
     "name": "stdout",
     "output_type": "stream",
     "text": [
      "Epoch 60: 0.4669547025253648, 0.7839867603671066, 0.8056537102473498\n"
     ]
    },
    {
     "name": "stderr",
     "output_type": "stream",
     "text": [
      "../src/model.py:127: UserWarning: Implicit dimension choice for softmax has been deprecated. Change the call to include dim=X as an argument.\n",
      "  x = F.softmax(self.fc2(x))\n",
      "100%|██████████| 26/26 [00:00<00:00, 36.10it/s]\n",
      "100%|██████████| 26/26 [00:00<00:00, 34.99it/s]\n"
     ]
    },
    {
     "name": "stdout",
     "output_type": "stream",
     "text": [
      "Epoch 60: 0.4669547025253648, 0.8017048870591195, 0.9521199084033031\n"
     ]
    },
    {
     "name": "stderr",
     "output_type": "stream",
     "text": [
      "  0%|          | 0/401 [00:00<?, ?it/s]../src/model.py:127: UserWarning: Implicit dimension choice for softmax has been deprecated. Change the call to include dim=X as an argument.\n",
      "  x = F.softmax(self.fc2(x))\n",
      "100%|██████████| 401/401 [00:03<00:00, 123.03it/s]\n",
      "100%|██████████| 401/401 [00:03<00:00, 123.81it/s]\n",
      "100%|██████████| 401/401 [00:03<00:00, 129.12it/s]\n",
      "100%|██████████| 401/401 [00:03<00:00, 132.33it/s]\n",
      "100%|██████████| 401/401 [00:03<00:00, 131.65it/s]\n",
      "100%|██████████| 401/401 [00:03<00:00, 131.50it/s]\n",
      "100%|██████████| 401/401 [00:03<00:00, 131.33it/s]\n",
      "100%|██████████| 401/401 [00:03<00:00, 128.89it/s]\n",
      "100%|██████████| 401/401 [00:03<00:00, 115.64it/s]\n",
      "100%|██████████| 401/401 [00:03<00:00, 124.04it/s]\n",
      "100%|██████████| 41/41 [00:00<00:00, 50.21it/s]\n",
      "100%|██████████| 41/41 [00:00<00:00, 43.65it/s]\n",
      "  0%|          | 0/26 [00:00<?, ?it/s]"
     ]
    },
    {
     "name": "stdout",
     "output_type": "stream",
     "text": [
      "Epoch 70: 0.46273227270107314, 0.7860277862146838, 0.797723445031651\n"
     ]
    },
    {
     "name": "stderr",
     "output_type": "stream",
     "text": [
      "../src/model.py:127: UserWarning: Implicit dimension choice for softmax has been deprecated. Change the call to include dim=X as an argument.\n",
      "  x = F.softmax(self.fc2(x))\n",
      "100%|██████████| 26/26 [00:00<00:00, 35.91it/s]\n",
      "100%|██████████| 26/26 [00:00<00:00, 36.35it/s]\n",
      "  0%|          | 0/401 [00:00<?, ?it/s]"
     ]
    },
    {
     "name": "stdout",
     "output_type": "stream",
     "text": [
      "Epoch 70: 0.46273227270107314, 0.8062234272586354, 0.9506105834464044\n"
     ]
    },
    {
     "name": "stderr",
     "output_type": "stream",
     "text": [
      "../src/model.py:127: UserWarning: Implicit dimension choice for softmax has been deprecated. Change the call to include dim=X as an argument.\n",
      "  x = F.softmax(self.fc2(x))\n",
      "100%|██████████| 401/401 [00:03<00:00, 119.00it/s]\n",
      "100%|██████████| 401/401 [00:03<00:00, 124.07it/s]\n",
      "100%|██████████| 401/401 [00:03<00:00, 130.25it/s]\n",
      "100%|██████████| 401/401 [00:03<00:00, 129.29it/s]\n",
      "100%|██████████| 401/401 [00:03<00:00, 126.95it/s]\n",
      "100%|██████████| 401/401 [00:03<00:00, 128.23it/s]\n",
      "100%|██████████| 401/401 [00:03<00:00, 131.63it/s]\n",
      "100%|██████████| 401/401 [00:03<00:00, 124.09it/s]\n",
      "100%|██████████| 401/401 [00:03<00:00, 126.39it/s]\n",
      "100%|██████████| 401/401 [00:03<00:00, 115.72it/s]\n",
      "100%|██████████| 41/41 [00:00<00:00, 43.46it/s]\n",
      "100%|██████████| 41/41 [00:00<00:00, 53.75it/s]\n",
      "  0%|          | 0/26 [00:00<?, ?it/s]"
     ]
    },
    {
     "name": "stdout",
     "output_type": "stream",
     "text": [
      "Epoch 80: 0.45970807378726114, 0.7862745959724403, 0.8116196118735264\n"
     ]
    },
    {
     "name": "stderr",
     "output_type": "stream",
     "text": [
      "../src/model.py:127: UserWarning: Implicit dimension choice for softmax has been deprecated. Change the call to include dim=X as an argument.\n",
      "  x = F.softmax(self.fc2(x))\n",
      "100%|██████████| 26/26 [00:00<00:00, 34.79it/s]\n",
      "100%|██████████| 26/26 [00:00<00:00, 40.19it/s]\n",
      "  0%|          | 0/401 [00:00<?, ?it/s]"
     ]
    },
    {
     "name": "stdout",
     "output_type": "stream",
     "text": [
      "Epoch 80: 0.45970807378726114, 0.7999463967909467, 0.9515590200445434\n"
     ]
    },
    {
     "name": "stderr",
     "output_type": "stream",
     "text": [
      "../src/model.py:127: UserWarning: Implicit dimension choice for softmax has been deprecated. Change the call to include dim=X as an argument.\n",
      "  x = F.softmax(self.fc2(x))\n",
      "100%|██████████| 401/401 [00:03<00:00, 123.84it/s]\n",
      "100%|██████████| 401/401 [00:03<00:00, 130.44it/s]\n",
      "100%|██████████| 401/401 [00:03<00:00, 131.82it/s]\n",
      "100%|██████████| 401/401 [00:03<00:00, 131.28it/s]\n",
      "100%|██████████| 401/401 [00:03<00:00, 116.54it/s]\n",
      "100%|██████████| 401/401 [00:03<00:00, 126.91it/s]\n",
      "100%|██████████| 401/401 [00:03<00:00, 116.99it/s]\n",
      "100%|██████████| 401/401 [00:03<00:00, 129.28it/s]\n",
      "100%|██████████| 401/401 [00:03<00:00, 130.63it/s]\n",
      "100%|██████████| 401/401 [00:03<00:00, 128.85it/s]\n",
      "100%|██████████| 41/41 [00:00<00:00, 47.03it/s]\n",
      "100%|██████████| 41/41 [00:00<00:00, 51.04it/s]\n",
      "  0%|          | 0/26 [00:00<?, ?it/s]"
     ]
    },
    {
     "name": "stdout",
     "output_type": "stream",
     "text": [
      "Epoch 90: 0.45803802633226065, 0.7879208245307311, 0.803486529318542\n"
     ]
    },
    {
     "name": "stderr",
     "output_type": "stream",
     "text": [
      "../src/model.py:127: UserWarning: Implicit dimension choice for softmax has been deprecated. Change the call to include dim=X as an argument.\n",
      "  x = F.softmax(self.fc2(x))\n",
      "100%|██████████| 26/26 [00:00<00:00, 35.37it/s]\n",
      "100%|██████████| 26/26 [00:00<00:00, 43.90it/s]\n",
      "  0%|          | 0/401 [00:00<?, ?it/s]"
     ]
    },
    {
     "name": "stdout",
     "output_type": "stream",
     "text": [
      "Epoch 90: 0.45803802633226065, 0.8025692838445357, 0.9487284101727186\n"
     ]
    },
    {
     "name": "stderr",
     "output_type": "stream",
     "text": [
      "../src/model.py:127: UserWarning: Implicit dimension choice for softmax has been deprecated. Change the call to include dim=X as an argument.\n",
      "  x = F.softmax(self.fc2(x))\n",
      "100%|██████████| 401/401 [00:03<00:00, 119.90it/s]\n",
      "100%|██████████| 401/401 [00:03<00:00, 128.01it/s]\n",
      "100%|██████████| 401/401 [00:03<00:00, 128.44it/s]\n",
      "100%|██████████| 401/401 [00:03<00:00, 118.96it/s]\n",
      "100%|██████████| 401/401 [00:03<00:00, 120.49it/s]\n",
      "100%|██████████| 401/401 [00:03<00:00, 124.72it/s]\n",
      "100%|██████████| 401/401 [00:03<00:00, 129.25it/s]\n",
      "100%|██████████| 401/401 [00:03<00:00, 129.04it/s]\n",
      "100%|██████████| 401/401 [00:03<00:00, 124.48it/s]\n",
      "  0%|          | 0/401 [00:00<?, ?it/s]../src/model.py:146: UserWarning: Implicit dimension choice for softmax has been deprecated. Change the call to include dim=X as an argument.\n",
      "  x = F.softmax(self.fc2(x))\n",
      "100%|██████████| 401/401 [00:02<00:00, 159.86it/s]\n",
      "100%|██████████| 41/41 [00:00<00:00, 54.78it/s]\n",
      "100%|██████████| 41/41 [00:00<00:00, 53.79it/s]\n",
      "  0%|          | 0/26 [00:00<?, ?it/s]"
     ]
    },
    {
     "name": "stdout",
     "output_type": "stream",
     "text": [
      "Epoch 0: 0.5617249570879853, 0.7517497910072124, 0.7900979886539453\n"
     ]
    },
    {
     "name": "stderr",
     "output_type": "stream",
     "text": [
      "../src/model.py:146: UserWarning: Implicit dimension choice for softmax has been deprecated. Change the call to include dim=X as an argument.\n",
      "  x = F.softmax(self.fc2(x))\n",
      "100%|██████████| 26/26 [00:00<00:00, 38.05it/s]\n",
      "100%|██████████| 26/26 [00:00<00:00, 35.38it/s]\n",
      "  0%|          | 0/401 [00:00<?, ?it/s]"
     ]
    },
    {
     "name": "stdout",
     "output_type": "stream",
     "text": [
      "Epoch 0: 0.5617249570879853, 0.7850152048933856, 0.9599083619702177\n"
     ]
    },
    {
     "name": "stderr",
     "output_type": "stream",
     "text": [
      "../src/model.py:146: UserWarning: Implicit dimension choice for softmax has been deprecated. Change the call to include dim=X as an argument.\n",
      "  x = F.softmax(self.fc2(x))\n",
      "100%|██████████| 401/401 [00:03<00:00, 128.86it/s]\n",
      "100%|██████████| 401/401 [00:02<00:00, 147.86it/s]\n",
      "100%|██████████| 401/401 [00:02<00:00, 146.02it/s]\n",
      "100%|██████████| 401/401 [00:02<00:00, 144.24it/s]\n",
      "100%|██████████| 401/401 [00:02<00:00, 149.80it/s]\n",
      "100%|██████████| 401/401 [00:02<00:00, 140.74it/s]\n",
      "100%|██████████| 401/401 [00:02<00:00, 155.81it/s]\n",
      "100%|██████████| 401/401 [00:02<00:00, 145.38it/s]\n",
      "100%|██████████| 401/401 [00:02<00:00, 156.31it/s]\n",
      "100%|██████████| 401/401 [00:02<00:00, 147.87it/s]\n",
      "100%|██████████| 41/41 [00:00<00:00, 52.44it/s]\n",
      "100%|██████████| 41/41 [00:00<00:00, 44.35it/s]\n",
      "  0%|          | 0/26 [00:00<?, ?it/s]"
     ]
    },
    {
     "name": "stdout",
     "output_type": "stream",
     "text": [
      "Epoch 10: 0.49839924933607144, 0.7643553483050504, 0.7995324740965378\n"
     ]
    },
    {
     "name": "stderr",
     "output_type": "stream",
     "text": [
      "../src/model.py:146: UserWarning: Implicit dimension choice for softmax has been deprecated. Change the call to include dim=X as an argument.\n",
      "  x = F.softmax(self.fc2(x))\n",
      "100%|██████████| 26/26 [00:00<00:00, 37.58it/s]\n",
      "100%|██████████| 26/26 [00:00<00:00, 41.20it/s]\n",
      "  0%|          | 0/401 [00:00<?, ?it/s]"
     ]
    },
    {
     "name": "stdout",
     "output_type": "stream",
     "text": [
      "Epoch 10: 0.49839924933607144, 0.7891340505063396, 0.9557522123893806\n"
     ]
    },
    {
     "name": "stderr",
     "output_type": "stream",
     "text": [
      "../src/model.py:146: UserWarning: Implicit dimension choice for softmax has been deprecated. Change the call to include dim=X as an argument.\n",
      "  x = F.softmax(self.fc2(x))\n",
      "100%|██████████| 401/401 [00:02<00:00, 134.54it/s]\n",
      "100%|██████████| 401/401 [00:02<00:00, 153.19it/s]\n",
      "100%|██████████| 401/401 [00:02<00:00, 161.68it/s]\n",
      "100%|██████████| 401/401 [00:02<00:00, 161.49it/s]\n",
      "100%|██████████| 401/401 [00:02<00:00, 152.74it/s]\n",
      "100%|██████████| 401/401 [00:02<00:00, 159.78it/s]\n",
      "100%|██████████| 401/401 [00:02<00:00, 157.27it/s]\n",
      "100%|██████████| 401/401 [00:02<00:00, 155.41it/s]\n",
      "100%|██████████| 401/401 [00:02<00:00, 149.87it/s]\n",
      "100%|██████████| 401/401 [00:02<00:00, 150.75it/s]\n",
      "100%|██████████| 41/41 [00:00<00:00, 49.54it/s]\n",
      "100%|██████████| 41/41 [00:00<00:00, 42.32it/s]\n",
      "  0%|          | 0/26 [00:00<?, ?it/s]"
     ]
    },
    {
     "name": "stdout",
     "output_type": "stream",
     "text": [
      "Epoch 20: 0.48644137739243354, 0.7780044021808069, 0.7950100746710916\n"
     ]
    },
    {
     "name": "stderr",
     "output_type": "stream",
     "text": [
      "../src/model.py:146: UserWarning: Implicit dimension choice for softmax has been deprecated. Change the call to include dim=X as an argument.\n",
      "  x = F.softmax(self.fc2(x))\n",
      "100%|██████████| 26/26 [00:00<00:00, 39.48it/s]\n",
      "100%|██████████| 26/26 [00:00<00:00, 45.02it/s]\n",
      "  0%|          | 0/401 [00:00<?, ?it/s]"
     ]
    },
    {
     "name": "stdout",
     "output_type": "stream",
     "text": [
      "Epoch 20: 0.48644137739243354, 0.8027461945450418, 0.9528668610301263\n"
     ]
    },
    {
     "name": "stderr",
     "output_type": "stream",
     "text": [
      "../src/model.py:146: UserWarning: Implicit dimension choice for softmax has been deprecated. Change the call to include dim=X as an argument.\n",
      "  x = F.softmax(self.fc2(x))\n",
      "100%|██████████| 401/401 [00:02<00:00, 138.04it/s]\n",
      "100%|██████████| 401/401 [00:02<00:00, 152.98it/s]\n",
      "100%|██████████| 401/401 [00:02<00:00, 138.77it/s]\n",
      "100%|██████████| 401/401 [00:02<00:00, 155.91it/s]\n",
      "100%|██████████| 401/401 [00:02<00:00, 149.29it/s]\n",
      "100%|██████████| 401/401 [00:02<00:00, 159.38it/s]\n",
      "100%|██████████| 401/401 [00:02<00:00, 161.84it/s]\n",
      "100%|██████████| 401/401 [00:02<00:00, 161.80it/s]\n",
      "100%|██████████| 401/401 [00:02<00:00, 142.48it/s]\n",
      "100%|██████████| 401/401 [00:02<00:00, 147.08it/s]\n",
      "100%|██████████| 41/41 [00:00<00:00, 48.54it/s]\n",
      "100%|██████████| 41/41 [00:00<00:00, 50.36it/s]\n",
      "  0%|          | 0/26 [00:00<?, ?it/s]"
     ]
    },
    {
     "name": "stdout",
     "output_type": "stream",
     "text": [
      "Epoch 30: 0.47867332484359454, 0.7825247167239673, 0.8019530784804096\n"
     ]
    },
    {
     "name": "stderr",
     "output_type": "stream",
     "text": [
      "../src/model.py:146: UserWarning: Implicit dimension choice for softmax has been deprecated. Change the call to include dim=X as an argument.\n",
      "  x = F.softmax(self.fc2(x))\n",
      "100%|██████████| 26/26 [00:00<00:00, 38.59it/s]\n",
      "100%|██████████| 26/26 [00:00<00:00, 43.16it/s]\n",
      "  0%|          | 0/401 [00:00<?, ?it/s]"
     ]
    },
    {
     "name": "stdout",
     "output_type": "stream",
     "text": [
      "Epoch 30: 0.47867332484359454, 0.8018895780597046, 0.9515872466975586\n"
     ]
    },
    {
     "name": "stderr",
     "output_type": "stream",
     "text": [
      "../src/model.py:146: UserWarning: Implicit dimension choice for softmax has been deprecated. Change the call to include dim=X as an argument.\n",
      "  x = F.softmax(self.fc2(x))\n",
      "100%|██████████| 401/401 [00:02<00:00, 140.29it/s]\n",
      "100%|██████████| 401/401 [00:02<00:00, 160.25it/s]\n",
      "100%|██████████| 401/401 [00:02<00:00, 150.92it/s]\n",
      "100%|██████████| 401/401 [00:02<00:00, 144.70it/s]\n",
      "100%|██████████| 401/401 [00:02<00:00, 159.39it/s]\n",
      "100%|██████████| 401/401 [00:02<00:00, 160.33it/s]\n",
      "100%|██████████| 401/401 [00:02<00:00, 152.93it/s]\n",
      "100%|██████████| 401/401 [00:02<00:00, 141.85it/s]\n",
      "100%|██████████| 401/401 [00:02<00:00, 155.27it/s]\n",
      "100%|██████████| 401/401 [00:02<00:00, 153.33it/s]\n",
      "100%|██████████| 41/41 [00:00<00:00, 54.96it/s]\n",
      "100%|██████████| 41/41 [00:00<00:00, 48.33it/s]\n",
      "  0%|          | 0/26 [00:00<?, ?it/s]"
     ]
    },
    {
     "name": "stdout",
     "output_type": "stream",
     "text": [
      "Epoch 40: 0.47077114036552925, 0.7880230880663004, 0.8062226428486927\n"
     ]
    },
    {
     "name": "stderr",
     "output_type": "stream",
     "text": [
      "../src/model.py:146: UserWarning: Implicit dimension choice for softmax has been deprecated. Change the call to include dim=X as an argument.\n",
      "  x = F.softmax(self.fc2(x))\n",
      "100%|██████████| 26/26 [00:00<00:00, 40.35it/s]\n",
      "100%|██████████| 26/26 [00:00<00:00, 38.73it/s]\n",
      "  0%|          | 0/401 [00:00<?, ?it/s]"
     ]
    },
    {
     "name": "stdout",
     "output_type": "stream",
     "text": [
      "Epoch 40: 0.47077114036552925, 0.8039417924621504, 0.9505329324952173\n"
     ]
    },
    {
     "name": "stderr",
     "output_type": "stream",
     "text": [
      "../src/model.py:146: UserWarning: Implicit dimension choice for softmax has been deprecated. Change the call to include dim=X as an argument.\n",
      "  x = F.softmax(self.fc2(x))\n",
      "100%|██████████| 401/401 [00:03<00:00, 130.27it/s]\n",
      "100%|██████████| 401/401 [00:02<00:00, 153.74it/s]\n",
      "100%|██████████| 401/401 [00:02<00:00, 155.52it/s]\n",
      "100%|██████████| 401/401 [00:02<00:00, 159.90it/s]\n",
      "100%|██████████| 401/401 [00:02<00:00, 154.78it/s]\n",
      "100%|██████████| 401/401 [00:02<00:00, 158.86it/s]\n",
      "100%|██████████| 401/401 [00:02<00:00, 160.75it/s]\n",
      "100%|██████████| 401/401 [00:02<00:00, 159.86it/s]\n",
      "100%|██████████| 401/401 [00:02<00:00, 154.97it/s]\n",
      "100%|██████████| 401/401 [00:02<00:00, 149.80it/s]\n",
      "100%|██████████| 41/41 [00:00<00:00, 48.27it/s]\n",
      "100%|██████████| 41/41 [00:00<00:00, 49.23it/s]\n",
      "  0%|          | 0/26 [00:00<?, ?it/s]"
     ]
    },
    {
     "name": "stdout",
     "output_type": "stream",
     "text": [
      "Epoch 50: 0.46611415544650203, 0.7903711827700355, 0.8081666371629197\n"
     ]
    },
    {
     "name": "stderr",
     "output_type": "stream",
     "text": [
      "../src/model.py:146: UserWarning: Implicit dimension choice for softmax has been deprecated. Change the call to include dim=X as an argument.\n",
      "  x = F.softmax(self.fc2(x))\n",
      "100%|██████████| 26/26 [00:00<00:00, 33.24it/s]\n",
      "100%|██████████| 26/26 [00:00<00:00, 34.80it/s]\n",
      "  0%|          | 0/401 [00:00<?, ?it/s]"
     ]
    },
    {
     "name": "stdout",
     "output_type": "stream",
     "text": [
      "Epoch 50: 0.46611415544650203, 0.8045217243826392, 0.9501735756585664\n"
     ]
    },
    {
     "name": "stderr",
     "output_type": "stream",
     "text": [
      "../src/model.py:146: UserWarning: Implicit dimension choice for softmax has been deprecated. Change the call to include dim=X as an argument.\n",
      "  x = F.softmax(self.fc2(x))\n",
      "100%|██████████| 401/401 [00:02<00:00, 136.70it/s]\n",
      "100%|██████████| 401/401 [00:03<00:00, 127.91it/s]\n",
      "100%|██████████| 401/401 [00:03<00:00, 131.35it/s]\n",
      "100%|██████████| 401/401 [00:02<00:00, 139.67it/s]\n",
      "100%|██████████| 401/401 [00:02<00:00, 159.51it/s]\n",
      "100%|██████████| 401/401 [00:02<00:00, 155.12it/s]\n",
      "100%|██████████| 401/401 [00:02<00:00, 150.46it/s]\n",
      "100%|██████████| 401/401 [00:02<00:00, 158.12it/s]\n",
      "100%|██████████| 401/401 [00:02<00:00, 143.72it/s]\n",
      "100%|██████████| 401/401 [00:02<00:00, 159.56it/s]\n",
      "100%|██████████| 41/41 [00:00<00:00, 54.93it/s]\n",
      "100%|██████████| 41/41 [00:00<00:00, 49.98it/s]\n",
      "  0%|          | 0/26 [00:00<?, ?it/s]"
     ]
    },
    {
     "name": "stdout",
     "output_type": "stream",
     "text": [
      "Epoch 60: 0.4620480417759341, 0.7939194210055676, 0.8124299120580771\n"
     ]
    },
    {
     "name": "stderr",
     "output_type": "stream",
     "text": [
      "../src/model.py:146: UserWarning: Implicit dimension choice for softmax has been deprecated. Change the call to include dim=X as an argument.\n",
      "  x = F.softmax(self.fc2(x))\n",
      "100%|██████████| 26/26 [00:00<00:00, 39.33it/s]\n",
      "100%|██████████| 26/26 [00:00<00:00, 37.33it/s]\n",
      "  0%|          | 0/401 [00:00<?, ?it/s]"
     ]
    },
    {
     "name": "stdout",
     "output_type": "stream",
     "text": [
      "Epoch 60: 0.4620480417759341, 0.8046141578669392, 0.9493224932249322\n"
     ]
    },
    {
     "name": "stderr",
     "output_type": "stream",
     "text": [
      "../src/model.py:146: UserWarning: Implicit dimension choice for softmax has been deprecated. Change the call to include dim=X as an argument.\n",
      "  x = F.softmax(self.fc2(x))\n",
      "100%|██████████| 401/401 [00:02<00:00, 141.80it/s]\n",
      "100%|██████████| 401/401 [00:02<00:00, 144.81it/s]\n",
      "100%|██████████| 401/401 [00:02<00:00, 148.91it/s]\n",
      "100%|██████████| 401/401 [00:02<00:00, 154.94it/s]\n",
      "100%|██████████| 401/401 [00:02<00:00, 152.14it/s]\n",
      "100%|██████████| 401/401 [00:02<00:00, 154.28it/s]\n",
      "100%|██████████| 401/401 [00:02<00:00, 141.38it/s]\n",
      "100%|██████████| 401/401 [00:02<00:00, 159.52it/s]\n",
      "100%|██████████| 401/401 [00:02<00:00, 145.96it/s]\n",
      "100%|██████████| 401/401 [00:02<00:00, 150.52it/s]\n",
      "100%|██████████| 41/41 [00:00<00:00, 53.21it/s]\n",
      "100%|██████████| 41/41 [00:00<00:00, 51.09it/s]\n",
      "  0%|          | 0/26 [00:00<?, ?it/s]"
     ]
    },
    {
     "name": "stdout",
     "output_type": "stream",
     "text": [
      "Epoch 70: 0.4576583705340835, 0.7982134064478059, 0.8090081787812464\n"
     ]
    },
    {
     "name": "stderr",
     "output_type": "stream",
     "text": [
      "../src/model.py:146: UserWarning: Implicit dimension choice for softmax has been deprecated. Change the call to include dim=X as an argument.\n",
      "  x = F.softmax(self.fc2(x))\n",
      "100%|██████████| 26/26 [00:00<00:00, 37.52it/s]\n",
      "100%|██████████| 26/26 [00:00<00:00, 41.31it/s]\n",
      "  0%|          | 0/401 [00:00<?, ?it/s]"
     ]
    },
    {
     "name": "stdout",
     "output_type": "stream",
     "text": [
      "Epoch 70: 0.4576583705340835, 0.807909146373295, 0.947173062901836\n"
     ]
    },
    {
     "name": "stderr",
     "output_type": "stream",
     "text": [
      "../src/model.py:146: UserWarning: Implicit dimension choice for softmax has been deprecated. Change the call to include dim=X as an argument.\n",
      "  x = F.softmax(self.fc2(x))\n",
      "100%|██████████| 401/401 [00:03<00:00, 124.18it/s]\n",
      "100%|██████████| 401/401 [00:02<00:00, 154.20it/s]\n",
      "100%|██████████| 401/401 [00:02<00:00, 146.00it/s]\n",
      "100%|██████████| 401/401 [00:02<00:00, 162.26it/s]\n",
      "100%|██████████| 401/401 [00:02<00:00, 157.82it/s]\n",
      "100%|██████████| 401/401 [00:02<00:00, 158.00it/s]\n",
      "100%|██████████| 401/401 [00:02<00:00, 145.16it/s]\n",
      "100%|██████████| 401/401 [00:02<00:00, 149.68it/s]\n",
      "100%|██████████| 401/401 [00:02<00:00, 146.57it/s]\n",
      "100%|██████████| 401/401 [00:02<00:00, 155.83it/s]\n",
      "100%|██████████| 41/41 [00:00<00:00, 53.33it/s]\n",
      "100%|██████████| 41/41 [00:00<00:00, 49.85it/s]\n",
      "  0%|          | 0/26 [00:00<?, ?it/s]"
     ]
    },
    {
     "name": "stdout",
     "output_type": "stream",
     "text": [
      "Epoch 80: 0.45461391287848835, 0.7990627398107859, 0.8356647685070562\n"
     ]
    },
    {
     "name": "stderr",
     "output_type": "stream",
     "text": [
      "../src/model.py:146: UserWarning: Implicit dimension choice for softmax has been deprecated. Change the call to include dim=X as an argument.\n",
      "  x = F.softmax(self.fc2(x))\n",
      "100%|██████████| 26/26 [00:00<00:00, 40.39it/s]\n",
      "100%|██████████| 26/26 [00:00<00:00, 42.97it/s]\n",
      "  0%|          | 0/401 [00:00<?, ?it/s]"
     ]
    },
    {
     "name": "stdout",
     "output_type": "stream",
     "text": [
      "Epoch 80: 0.45461391287848835, 0.8016078239401467, 0.9522750955192776\n"
     ]
    },
    {
     "name": "stderr",
     "output_type": "stream",
     "text": [
      "../src/model.py:146: UserWarning: Implicit dimension choice for softmax has been deprecated. Change the call to include dim=X as an argument.\n",
      "  x = F.softmax(self.fc2(x))\n",
      "100%|██████████| 401/401 [00:02<00:00, 141.12it/s]\n",
      "100%|██████████| 401/401 [00:02<00:00, 149.71it/s]\n",
      "100%|██████████| 401/401 [00:02<00:00, 156.52it/s]\n",
      "100%|██████████| 401/401 [00:02<00:00, 145.08it/s]\n",
      "100%|██████████| 401/401 [00:02<00:00, 156.53it/s]\n",
      "100%|██████████| 401/401 [00:02<00:00, 162.08it/s]\n",
      "100%|██████████| 401/401 [00:02<00:00, 156.39it/s]\n",
      "100%|██████████| 401/401 [00:02<00:00, 160.82it/s]\n",
      "100%|██████████| 401/401 [00:02<00:00, 157.43it/s]\n",
      "100%|██████████| 401/401 [00:02<00:00, 156.54it/s]\n",
      "100%|██████████| 41/41 [00:00<00:00, 52.75it/s]\n",
      "100%|██████████| 41/41 [00:00<00:00, 53.25it/s]\n",
      "  0%|          | 0/26 [00:00<?, ?it/s]"
     ]
    },
    {
     "name": "stdout",
     "output_type": "stream",
     "text": [
      "Epoch 90: 0.45186335792268006, 0.8034039453076873, 0.8355186924437397\n"
     ]
    },
    {
     "name": "stderr",
     "output_type": "stream",
     "text": [
      "../src/model.py:146: UserWarning: Implicit dimension choice for softmax has been deprecated. Change the call to include dim=X as an argument.\n",
      "  x = F.softmax(self.fc2(x))\n",
      "100%|██████████| 26/26 [00:00<00:00, 38.47it/s]\n",
      "100%|██████████| 26/26 [00:00<00:00, 44.63it/s]\n",
      "  0%|          | 0/401 [00:00<?, ?it/s]"
     ]
    },
    {
     "name": "stdout",
     "output_type": "stream",
     "text": [
      "Epoch 90: 0.45186335792268006, 0.8049996116134532, 0.9516537697733343\n"
     ]
    },
    {
     "name": "stderr",
     "output_type": "stream",
     "text": [
      "../src/model.py:146: UserWarning: Implicit dimension choice for softmax has been deprecated. Change the call to include dim=X as an argument.\n",
      "  x = F.softmax(self.fc2(x))\n",
      "100%|██████████| 401/401 [00:02<00:00, 148.13it/s]\n",
      "100%|██████████| 401/401 [00:02<00:00, 162.68it/s]\n",
      "100%|██████████| 401/401 [00:02<00:00, 153.43it/s]\n",
      "100%|██████████| 401/401 [00:02<00:00, 154.40it/s]\n",
      "100%|██████████| 401/401 [00:02<00:00, 159.15it/s]\n",
      "100%|██████████| 401/401 [00:02<00:00, 159.36it/s]\n",
      "100%|██████████| 401/401 [00:02<00:00, 156.75it/s]\n",
      "100%|██████████| 401/401 [00:02<00:00, 151.25it/s]\n",
      "100%|██████████| 401/401 [00:02<00:00, 156.35it/s]\n"
     ]
    }
   ],
   "source": [
    "# global\n",
    "train_ensemble(models=MODELS, \n",
    "               epochs=EPOCHS, \n",
    "               outpath=OUTPATH, \n",
    "               trainloader=TRAINLOADER, \n",
    "               trainloaderfast=TRAINLOADERFAST, \n",
    "               testloader=TESTLOADER, \n",
    "               device=DEVICE)"
   ]
  },
  {
   "cell_type": "code",
   "execution_count": null,
   "metadata": {},
   "outputs": [],
   "source": []
  }
 ],
 "metadata": {
  "kernelspec": {
   "display_name": "Python 3",
   "language": "python",
   "name": "python3"
  },
  "language_info": {
   "codemirror_mode": {
    "name": "ipython",
    "version": 3
   },
   "file_extension": ".py",
   "mimetype": "text/x-python",
   "name": "python",
   "nbconvert_exporter": "python",
   "pygments_lexer": "ipython3",
   "version": "3.9.0"
  }
 },
 "nbformat": 4,
 "nbformat_minor": 4
}
